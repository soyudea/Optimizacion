{
  "nbformat": 4,
  "nbformat_minor": 0,
  "metadata": {
    "colab": {
      "provenance": [],
      "authorship_tag": "ABX9TyOh5PeHZExkiZ8KEH0jaL4N",
      "include_colab_link": true
    },
    "kernelspec": {
      "name": "python3",
      "display_name": "Python 3"
    },
    "language_info": {
      "name": "python"
    }
  },
  "cells": [
    {
      "cell_type": "markdown",
      "metadata": {
        "id": "view-in-github",
        "colab_type": "text"
      },
      "source": [
        "<a href=\"https://colab.research.google.com/github/soyudea/Optimizacion/blob/main/BusquedDorada.ipynb\" target=\"_parent\"><img src=\"https://colab.research.google.com/assets/colab-badge.svg\" alt=\"Open In Colab\"/></a>"
      ]
    },
    {
      "cell_type": "markdown",
      "source": [
        "![descarga.jpeg](data:image/jpeg;base64,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)\n",
        "**Busqueda dorada\n",
        "Omar Torres**\n"
      ],
      "metadata": {
        "id": "IYOLqiwdiW5h"
      }
    },
    {
      "cell_type": "markdown",
      "source": [
        "Apertura de librerías"
      ],
      "metadata": {
        "id": "xHg7Ms6CidZ5"
      }
    },
    {
      "cell_type": "code",
      "source": [
        "import math\n",
        "import matplotlib.pyplot as plt\n",
        "import numpy as np"
      ],
      "metadata": {
        "id": "8m988P6cia1G"
      },
      "execution_count": 2,
      "outputs": []
    },
    {
      "cell_type": "markdown",
      "source": [
        "Ingreso de datos"
      ],
      "metadata": {
        "id": "SnNlsBFrixP1"
      }
    },
    {
      "cell_type": "code",
      "source": [
        "xl=0\n",
        "xu=0\n",
        "dorada_min = 0\n",
        "\n",
        "def inputIntervalo_Max():\n",
        "  print(\"_____________Analisis de máximos [0,4]__________________\")\n",
        "  xl =    int(input(\"Digite el extremo inferior del intervalo xl \"))\n",
        "  xu =    int(input(\"Digite el valor superior del intervalo xu \"))\n",
        "  dorada_min = float(input(\"digite el valor minimo de la constante dorada\" ))\n",
        "  return xl, xu, dorada_min"
      ],
      "metadata": {
        "id": "VLmEEE6Fi0vE"
      },
      "execution_count": 3,
      "outputs": []
    },
    {
      "cell_type": "code",
      "source": [
        "xl, xu, dorada_min = inputIntervalo_Max()"
      ],
      "metadata": {
        "colab": {
          "base_uri": "https://localhost:8080/"
        },
        "id": "rE2x4HP2ZcTC",
        "outputId": "909dba3f-0c1a-4baf-c70c-28085ad61d4c"
      },
      "execution_count": 4,
      "outputs": [
        {
          "name": "stdout",
          "output_type": "stream",
          "text": [
            "_____________Analisis de máximos [0,4]__________________\n",
            "Digite el extremo inferior del intervalo xl 0\n",
            "Digite el valor superior del intervalo xu 4\n",
            "digite el valor minimo de la constante dorada0.001\n"
          ]
        }
      ]
    },
    {
      "cell_type": "code",
      "source": [
        "xl_min=0\n",
        "xu_min=0\n",
        "dorada_min = 0\n",
        "\n",
        "def inputIntervalo_Min():\n",
        "  print(\"_____________Analisis de minimos [4,6]________________\")\n",
        "  xlm =    int(input(\"Digite el extremo inferior del intervalo xl \"))\n",
        "  xum =    int(input(\"Digite el valor superior del intervalo xu \"))\n",
        "  dorada_min = float(input(\"digite el valor minimo de la constante dorada\" ))\n",
        "  return xlm, xum, dorada_min"
      ],
      "metadata": {
        "id": "LFtW2JztZAcY"
      },
      "execution_count": 7,
      "outputs": []
    },
    {
      "cell_type": "code",
      "source": [
        "xlmin, xumin, dorada_min = inputIntervalo_Min()"
      ],
      "metadata": {
        "colab": {
          "base_uri": "https://localhost:8080/"
        },
        "id": "jVzKaEg-j4pm",
        "outputId": "7565d253-413b-4e00-c079-4072a9fa9c46"
      },
      "execution_count": 8,
      "outputs": [
        {
          "name": "stdout",
          "output_type": "stream",
          "text": [
            "_____________Analisis de minimos [4,6]________________\n",
            "Digite el extremo inferior del intervalo xl 4\n",
            "Digite el valor superior del intervalo xu 6\n",
            "digite el valor minimo de la constante dorada0.001\n"
          ]
        }
      ]
    },
    {
      "cell_type": "markdown",
      "source": [
        "**Grafica de f(x) = 2*sen(x) - x^2/10**"
      ],
      "metadata": {
        "id": "ruSOK1oUkVG6"
      }
    },
    {
      "cell_type": "code",
      "source": [
        "#Grafica para máximos\n",
        "\n",
        "def graf_f():\n",
        "  X = list(np.arange(xl, xu, dorada_min))\n",
        "  Y=[(2*math.sin(x) -(x**2)/10) for x in X]\n",
        "\n",
        "  plt.title(\"Funcion\")\n",
        "  plt.xlabel(\"f(x) = 2*sin(x) - x^2/10\")\n",
        "  plt.ylabel(\"Y\")\n",
        "  plt.plot(X,Y, \"r--\")\n",
        "  plt.axhline(y=0, xmin=0, color=\"g\")\n",
        "  plt.grid()\n",
        "  plt.show()\n",
        "\n",
        "graf_f()"
      ],
      "metadata": {
        "colab": {
          "base_uri": "https://localhost:8080/",
          "height": 472
        },
        "id": "LzG1EZCQkvUu",
        "outputId": "227d6e89-4355-4999-89de-213da4a73efa"
      },
      "execution_count": 9,
      "outputs": [
        {
          "output_type": "display_data",
          "data": {
            "text/plain": [
              "<Figure size 640x480 with 1 Axes>"
            ],
            "image/png": "[encoded data removed]"
          },
          "metadata": {}
        }
      ]
    },
    {
      "cell_type": "code",
      "source": [
        "def graf_f():\n",
        "  X = list(np.arange(xlmin, xumin, dorada_min))\n",
        "  Y=[(2*math.sin(x) -(x**2)/10) for x in X]\n",
        "\n",
        "  plt.title(\"Funcion\")\n",
        "  plt.xlabel(\"f(x) = 2*sin(x) - x^2/10\")\n",
        "  plt.ylabel(\"Y\")\n",
        "  plt.plot(X,Y, \"r--\")\n",
        "  plt.axhline(y=-5, xmin=4.75, color=\"g\")\n",
        "  plt.grid()\n",
        "  plt.show()\n",
        "\n",
        "graf_f()"
      ],
      "metadata": {
        "colab": {
          "base_uri": "https://localhost:8080/",
          "height": 472
        },
        "id": "vjcNYw3bbYk7",
        "outputId": "2d8a6f26-48db-4e5a-d8ee-39730551e2e2"
      },
      "execution_count": 10,
      "outputs": [
        {
          "output_type": "display_data",
          "data": {
            "text/plain": [
              "<Figure size 640x480 with 1 Axes>"
            ],
            "image/png": "[encoded data removed]"
          },
          "metadata": {}
        }
      ]
    },
    {
      "cell_type": "markdown",
      "source": [
        "**Clase busqueda dorada**\n"
      ],
      "metadata": {
        "id": "0ffx-4XElXZf"
      }
    },
    {
      "cell_type": "code",
      "source": [
        "class BusquedaDoradaMax:\n",
        "\n",
        "  def __init__(self, dorada, xl, xu):\n",
        "     self.__d_min = dorada\n",
        "     self.__d = 1\n",
        "     self.__xl = xl\n",
        "     self.__xu = xu\n",
        "     self.__x1 = 0\n",
        "     self.__x2 = 0\n",
        "     self.__xop = 0\n",
        "     self.__f1 = 0\n",
        "     self.__f2 = 0\n",
        "     self.__fl = 0\n",
        "     self.__fu = 0\n",
        "\n",
        "  def __f(self, x):\n",
        "     f = 2*math.sin(x) - (x**2)/10\n",
        "     return f\n",
        "\n",
        "  def __fx(self):\n",
        "     self.__f1 = self.__f(self.__x1)\n",
        "     self.__f2 = self.__f(self.__x2)\n",
        "     self.__fl = self.__f(self.__xl)\n",
        "     self.__fu = self.__f(self.__xu)\n",
        "\n",
        "  def __printf(self):\n",
        "      print(\"____________________________________________________________________________________________________\")\n",
        "      print(\"xl = \", self.__xl)\n",
        "      print(\"f1 = \",self.__fl)\n",
        "      print(\"x2 = \",self.__x2)\n",
        "      print(\"f2 = \",self.__f2)\n",
        "      print(\"x1 = \",self.__x1)\n",
        "      print(\"f1 = \",self.__f1)\n",
        "      print(\"xu = \",self.__xu)\n",
        "      print(\"fu = \",self.__fu)\n",
        "      print(\"d = \",self.__d)\n",
        "\n",
        "  def __calc_Rd(self):\n",
        "    Rd = 0\n",
        "    Rd = (math.sqrt(5)-1)/2\n",
        "    return Rd\n",
        "\n",
        "  def __calc_d(self):\n",
        "    Rd = self.__calc_Rd()\n",
        "    return Rd*(self.__xu - self.__xl)\n",
        "\n",
        "  def __cal_x1_x2(self):\n",
        "    x1 = self.__xl +  self.__d\n",
        "    x2 = self.__xu -  self.__d\n",
        "    self.__x1 = x1\n",
        "    self.__x2 = x2\n",
        "\n",
        "  def calMaxF(self):\n",
        "      while self.__d > self.__d_min:\n",
        "        self.__d = self.__calc_d()\n",
        "        self.__cal_x1_x2()\n",
        "        self.__fx()\n",
        "        if self.__f1 > self.__f2:\n",
        "          self.__xl = self.__x2\n",
        "          self.__xop = self.__x1\n",
        "        else:\n",
        "           if self.__f1 < self.__f2:\n",
        "             self.__xu = self.__x1\n",
        "             self.__xop = self.__x2\n",
        "        self.__d = self.__calc_d()\n",
        "        self.__printf()\n",
        "      max = self.__xop\n",
        "      return self.__f(max)\n"
      ],
      "metadata": {
        "id": "DG8gBPu5lVbx"
      },
      "execution_count": 11,
      "outputs": []
    },
    {
      "cell_type": "code",
      "source": [
        "class BusquedaDoradaMin:\n",
        "\n",
        "  def __init__(self, dorada, xl, xu):\n",
        "     self.__d_min = dorada\n",
        "     self.__d = 1\n",
        "     self.__xl = xl\n",
        "     self.__xu = xu\n",
        "     self.__x1 = 0\n",
        "     self.__x2 = 0\n",
        "     self.__xop = 0\n",
        "     self.__f1 = 0\n",
        "     self.__f2 = 0\n",
        "     self.__fl = 0\n",
        "     self.__fu = 0\n",
        "\n",
        "  def __f(self, x):\n",
        "     f = 2*math.sin(x) - (x**2)/10\n",
        "     return f\n",
        "\n",
        "  def __fx(self):\n",
        "     self.__f1 = self.__f(self.__x1)\n",
        "     self.__f2 = self.__f(self.__x2)\n",
        "     self.__fl = self.__f(self.__xl)\n",
        "     self.__fu = self.__f(self.__xu)\n",
        "\n",
        "  def __printf(self):\n",
        "      print(\"____________________________________________________________________________________________________\")\n",
        "      print(\"xl = \", self.__xl)\n",
        "      print(\"f1 = \",self.__fl)\n",
        "      print(\"x2 = \",self.__x2)\n",
        "      print(\"f2 = \",self.__f2)\n",
        "      print(\"x1 = \",self.__x1)\n",
        "      print(\"f1 = \",self.__f1)\n",
        "      print(\"xu = \",self.__xu)\n",
        "      print(\"fu = \",self.__fu)\n",
        "      print(\"d = \",self.__d)\n",
        "\n",
        "  def __calc_Rd(self):\n",
        "    Rd = 0\n",
        "    Rd = (math.sqrt(5)-1)/2\n",
        "    return Rd\n",
        "\n",
        "  def __calc_d(self):\n",
        "    Rd = self.__calc_Rd()\n",
        "    return Rd*(self.__xu - self.__xl)\n",
        "\n",
        "  def __cal_x1_x2(self):\n",
        "    x1 = self.__xl +  self.__d\n",
        "    x2 = self.__xu -  self.__d\n",
        "    self.__x1 = x1\n",
        "    self.__x2 = x2\n",
        "  def calMinF(self):\n",
        "      while self.__d > self.__d_min:\n",
        "        print(self.__d)\n",
        "        self.__d = self.__calc_d()\n",
        "        self.__cal_x1_x2()\n",
        "        self.__fx()\n",
        "        if self.__f1 < self.__f2:\n",
        "          self.__xl = self.__x2\n",
        "          self.__x2=self.__x1\n",
        "          self.__xop = self.__x2\n",
        "        else:\n",
        "           if self.__f2 < self.__f1:\n",
        "             self.__xu = self.__x1\n",
        "             self.__x1=self.__x2\n",
        "             self.__xop = self.__x1\n",
        "        self.__d = self.__calc_d()\n",
        "        self.__printf()\n",
        "      min = self.__xop\n",
        "      return self.__f(min)"
      ],
      "metadata": {
        "id": "-wmO1eW3fBwj"
      },
      "execution_count": 12,
      "outputs": []
    },
    {
      "cell_type": "markdown",
      "source": [
        "**Función principal**"
      ],
      "metadata": {
        "id": "dB_43Y3vxXoU"
      }
    },
    {
      "cell_type": "code",
      "source": [
        "def graf_f(max, xl, xu):\n",
        "  X = list(np.arange(xl, xu, dorada_min))\n",
        "  Y=[(2*math.sin(x) -(x**2)/10) for x in X]\n",
        "\n",
        "  plt.title(\"Funcion\")\n",
        "  plt.xlabel(\"f(x) = 2*sin(x) - x^2/10\")\n",
        "  plt.ylabel(\"Y\")\n",
        "  plt.plot(X,Y, \"r--\")\n",
        "  plt.axhline(y=max, xmin=0, color=\"g\")\n",
        "  plt.grid()\n",
        "  plt.show()\n"
      ],
      "metadata": {
        "id": "hhIyeTwUL7SL"
      },
      "execution_count": 13,
      "outputs": []
    },
    {
      "cell_type": "code",
      "source": [],
      "metadata": {
        "id": "ftdupr8dgcN4"
      },
      "execution_count": null,
      "outputs": []
    },
    {
      "cell_type": "code",
      "source": [
        "def main():\n",
        "  objmax = BusquedaDoradaMax(dorada_min, xl,xu)    #Se instancia la clase\n",
        "  max = objmax.calMaxF()  #Se invoca método calculo del máximo\n",
        "  print(max)\n",
        "  graf_f(max, xl,xu)\n",
        "\n",
        "  objmin = BusquedaDoradaMin(dorada_min, xlmin,xumin)    #Se instancia la clase\n",
        "  min = objmin.calMinF()  #Se invoca método calculo del máximo\n",
        "  print(\"Min \",min)\n",
        "  graf_f(min, xlmin, xumin)\n",
        "\n",
        "if __name__=='__main__':\n",
        "   main()"
      ],
      "metadata": {
        "colab": {
          "base_uri": "https://localhost:8080/",
          "height": 1000
        },
        "id": "TwmNjf6Wxgc5",
        "outputId": "15e44a8f-b0e4-4750-d50e-6ccbe22c0404"
      },
      "execution_count": 16,
      "outputs": [
        {
          "output_type": "stream",
          "name": "stdout",
          "text": [
            "____________________________________________________________________________________________________\n",
            "xl =  0\n",
            "f1 =  0.0\n",
            "x2 =  1.5278640450004204\n",
            "f2 =  1.7647202482716493\n",
            "x1 =  2.4721359549995796\n",
            "f1 =  0.6299744699822459\n",
            "xu =  2.4721359549995796\n",
            "fu =  -3.1136049906158565\n",
            "d =  1.5278640450004208\n",
            "____________________________________________________________________________________________________\n",
            "xl =  0.9442719099991588\n",
            "f1 =  0.0\n",
            "x2 =  0.9442719099991588\n",
            "f2 =  1.530975546926476\n",
            "x1 =  1.5278640450004208\n",
            "f1 =  1.7647202482716495\n",
            "xu =  2.4721359549995796\n",
            "fu =  0.6299744699822459\n",
            "d =  0.944271909999159\n",
            "____________________________________________________________________________________________________\n",
            "xl =  0.9442719099991588\n",
            "f1 =  1.530975546926476\n",
            "x2 =  1.5278640450004206\n",
            "f2 =  1.7647202482716495\n",
            "x1 =  1.8885438199983178\n",
            "f1 =  1.5432233693764972\n",
            "xu =  1.8885438199983178\n",
            "fu =  0.6299744699822459\n",
            "d =  0.5835921350012621\n",
            "____________________________________________________________________________________________________\n",
            "xl =  1.3049516849970557\n",
            "f1 =  1.530975546926476\n",
            "x2 =  1.3049516849970557\n",
            "f2 =  1.7594519842513348\n",
            "x1 =  1.5278640450004208\n",
            "f1 =  1.7647202482716495\n",
            "xu =  1.8885438199983178\n",
            "fu =  1.5432233693764972\n",
            "d =  0.36067977499789716\n",
            "____________________________________________________________________________________________________\n",
            "xl =  1.3049516849970557\n",
            "f1 =  1.7594519842513348\n",
            "x2 =  1.5278640450004206\n",
            "f2 =  1.7647202482716495\n",
            "x1 =  1.6656314599949529\n",
            "f1 =  1.7135802199950465\n",
            "xu =  1.6656314599949529\n",
            "fu =  1.5432233693764972\n",
            "d =  0.222912360003365\n",
            "____________________________________________________________________________________________________\n",
            "xl =  1.3049516849970557\n",
            "f1 =  1.7594519842513348\n",
            "x2 =  1.4427190999915878\n",
            "f2 =  1.7754747952244816\n",
            "x1 =  1.5278640450004208\n",
            "f1 =  1.7647202482716495\n",
            "xu =  1.5278640450004208\n",
            "fu =  1.7135802199950465\n",
            "d =  0.13776741499453227\n",
            "____________________________________________________________________________________________________\n",
            "xl =  1.3900966300058886\n",
            "f1 =  1.7594519842513348\n",
            "x2 =  1.3900966300058886\n",
            "f2 =  1.7741995070201424\n",
            "x1 =  1.442719099991588\n",
            "f1 =  1.7754747952244818\n",
            "xu =  1.5278640450004208\n",
            "fu =  1.7647202482716495\n",
            "d =  0.08514494500883285\n",
            "____________________________________________________________________________________________________\n",
            "xl =  1.3900966300058886\n",
            "f1 =  1.7741995070201424\n",
            "x2 =  1.442719099991588\n",
            "f2 =  1.7754747952244818\n",
            "x1 =  1.4752415750147214\n",
            "f1 =  1.7732424643225182\n",
            "xu =  1.4752415750147214\n",
            "fu =  1.7647202482716495\n",
            "d =  0.05262246998569942\n",
            "____________________________________________________________________________________________________\n",
            "xl =  1.3900966300058886\n",
            "f1 =  1.7741995070201424\n",
            "x2 =  1.422619105029022\n",
            "f2 =  1.7756991437102354\n",
            "x1 =  1.442719099991588\n",
            "f1 =  1.7754747952244818\n",
            "xu =  1.442719099991588\n",
            "fu =  1.7732424643225182\n",
            "d =  0.032522475023133435\n",
            "____________________________________________________________________________________________________\n",
            "xl =  1.4101966249684545\n",
            "f1 =  1.7741995070201424\n",
            "x2 =  1.4101966249684545\n",
            "f2 =  1.7753976727678207\n",
            "x1 =  1.422619105029022\n",
            "f1 =  1.7756991437102354\n",
            "xu =  1.442719099991588\n",
            "fu =  1.7754747952244818\n",
            "d =  0.020099994962565988\n",
            "____________________________________________________________________________________________________\n",
            "xl =  1.422619105029022\n",
            "f1 =  1.7753976727678207\n",
            "x2 =  1.422619105029022\n",
            "f2 =  1.7756991437102354\n",
            "x1 =  1.4302966199310205\n",
            "f1 =  1.7757174417642685\n",
            "xu =  1.442719099991588\n",
            "fu =  1.7754747952244818\n",
            "d =  0.012422480060567448\n",
            "____________________________________________________________________________________________________\n",
            "xl =  1.422619105029022\n",
            "f1 =  1.7756991437102354\n",
            "x2 =  1.4302966199310205\n",
            "f2 =  1.7757174417642685\n",
            "x1 =  1.4350415850895895\n",
            "f1 =  1.7756645010409504\n",
            "xu =  1.4350415850895895\n",
            "fu =  1.7754747952244818\n",
            "d =  0.007677514901998539\n",
            "____________________________________________________________________________________________________\n",
            "xl =  1.422619105029022\n",
            "f1 =  1.7756991437102354\n",
            "x2 =  1.427364070187591\n",
            "f2 =  1.77572561475064\n",
            "x1 =  1.4302966199310205\n",
            "f1 =  1.7757174417642685\n",
            "xu =  1.4302966199310205\n",
            "fu =  1.7756645010409504\n",
            "d =  0.004744965158568908\n",
            "____________________________________________________________________________________________________\n",
            "xl =  1.4255516547724516\n",
            "f1 =  1.7756991437102354\n",
            "x2 =  1.4255516547724516\n",
            "f2 =  1.7757212939568614\n",
            "x1 =  1.427364070187591\n",
            "f1 =  1.77572561475064\n",
            "xu =  1.4302966199310205\n",
            "fu =  1.7757174417642685\n",
            "d =  0.002932549743429631\n",
            "____________________________________________________________________________________________________\n",
            "xl =  1.4255516547724516\n",
            "f1 =  1.7757212939568614\n",
            "x2 =  1.427364070187591\n",
            "f2 =  1.77572561475064\n",
            "x1 =  1.4284842045158812\n",
            "f1 =  1.7757247056538923\n",
            "xu =  1.4284842045158812\n",
            "fu =  1.7757174417642685\n",
            "d =  0.001812415415139278\n",
            "____________________________________________________________________________________________________\n",
            "xl =  1.4266717891007419\n",
            "f1 =  1.7757212939568614\n",
            "x2 =  1.4266717891007419\n",
            "f2 =  1.7757248092910969\n",
            "x1 =  1.427364070187591\n",
            "f1 =  1.77572561475064\n",
            "xu =  1.4284842045158812\n",
            "fu =  1.7757247056538923\n",
            "d =  0.0011201343282903526\n",
            "____________________________________________________________________________________________________\n",
            "xl =  1.4266717891007419\n",
            "f1 =  1.7757248092910969\n",
            "x2 =  1.427364070187591\n",
            "f2 =  1.77572561475064\n",
            "x1 =  1.4277919234290322\n",
            "f1 =  1.7757255903009994\n",
            "xu =  1.4277919234290322\n",
            "fu =  1.7757247056538923\n",
            "d =  0.0006922810868489252\n",
            "1.77572561475064\n"
          ]
        },
        {
          "output_type": "display_data",
          "data": {
            "text/plain": [
              "<Figure size 640x480 with 1 Axes>"
            ],
            "image/png": "[encoded data removed]"
          },
          "metadata": {}
        },
        {
          "output_type": "stream",
          "name": "stdout",
          "text": [
            "1\n",
            "____________________________________________________________________________________________________\n",
            "xl =  4.76393202250021\n",
            "f1 =  -3.1136049906158565\n",
            "x2 =  5.23606797749979\n",
            "f2 =  -4.266848734422372\n",
            "x1 =  5.23606797749979\n",
            "f1 =  -4.473611366978737\n",
            "xu =  6\n",
            "fu =  -4.158830996397851\n",
            "d =  0.7639320225002104\n",
            "0.7639320225002104\n",
            "____________________________________________________________________________________________________\n",
            "xl =  4.76393202250021\n",
            "f1 =  -4.266848734422372\n",
            "x2 =  5.23606797749979\n",
            "f2 =  -4.473611366978737\n",
            "x1 =  5.23606797749979\n",
            "f1 =  -4.426773288785453\n",
            "xu =  5.52786404500042\n",
            "fu =  -4.158830996397851\n",
            "d =  0.4721359549995794\n",
            "0.4721359549995794\n",
            "____________________________________________________________________________________________________\n",
            "xl =  5.055728090000841\n",
            "f1 =  -4.266848734422372\n",
            "x2 =  5.23606797749979\n",
            "f2 =  -4.439310375907506\n",
            "x1 =  5.23606797749979\n",
            "f1 =  -4.473611366978737\n",
            "xu =  5.52786404500042\n",
            "fu =  -4.426773288785453\n",
            "d =  0.2917960675006311\n",
            "0.2917960675006311\n",
            "____________________________________________________________________________________________________\n",
            "xl =  5.055728090000841\n",
            "f1 =  -4.439310375907506\n",
            "x2 =  5.236067977499789\n",
            "f2 =  -4.473611366978737\n",
            "x1 =  5.236067977499789\n",
            "f1 =  -4.4695844716903785\n",
            "xu =  5.347524157501472\n",
            "fu =  -4.426773288785453\n",
            "d =  0.18033988749894886\n",
            "0.18033988749894886\n",
            "____________________________________________________________________________________________________\n",
            "xl =  5.167184270002523\n",
            "f1 =  -4.439310375907506\n",
            "x2 =  5.23606797749979\n",
            "f2 =  -4.466681271725598\n",
            "x1 =  5.23606797749979\n",
            "f1 =  -4.473611366978737\n",
            "xu =  5.347524157501472\n",
            "fu =  -4.4695844716903785\n",
            "d =  0.11145618000168278\n",
            "0.11145618000168278\n",
            "____________________________________________________________________________________________________\n",
            "xl =  5.23606797749979\n",
            "f1 =  -4.466681271725598\n",
            "x2 =  5.278640450004206\n",
            "f2 =  -4.473611366978737\n",
            "x1 =  5.278640450004206\n",
            "f1 =  -4.474240265209084\n",
            "xu =  5.347524157501472\n",
            "fu =  -4.4695844716903785\n",
            "d =  0.06888370749726608\n",
            "0.06888370749726608\n",
            "____________________________________________________________________________________________________\n",
            "xl =  5.23606797749979\n",
            "f1 =  -4.473611366978737\n",
            "x2 =  5.278640450004207\n",
            "f2 =  -4.474240265209084\n",
            "x1 =  5.278640450004207\n",
            "f1 =  -4.473275564255314\n",
            "xu =  5.3049516849970555\n",
            "fu =  -4.4695844716903785\n",
            "d =  0.042572472504416155\n",
            "0.042572472504416155\n",
            "____________________________________________________________________________________________________\n",
            "xl =  5.23606797749979\n",
            "f1 =  -4.473611366978737\n",
            "x2 =  5.26237921249264\n",
            "f2 =  -4.474322752749993\n",
            "x1 =  5.26237921249264\n",
            "f1 =  -4.474240265209084\n",
            "xu =  5.278640450004206\n",
            "fu =  -4.473275564255314\n",
            "d =  0.026311234992849368\n",
            "0.026311234992849368\n",
            "____________________________________________________________________________________________________\n",
            "xl =  5.252329215011357\n",
            "f1 =  -4.473611366978737\n",
            "x2 =  5.262379212492639\n",
            "f2 =  -4.474175033009114\n",
            "x1 =  5.262379212492639\n",
            "f1 =  -4.474322752749992\n",
            "xu =  5.278640450004206\n",
            "fu =  -4.474240265209084\n",
            "d =  0.01626123751156624\n",
            "0.01626123751156624\n",
            "____________________________________________________________________________________________________\n",
            "xl =  5.26237921249264\n",
            "f1 =  -4.474175033009114\n",
            "x2 =  5.268590452522923\n",
            "f2 =  -4.474322752749993\n",
            "x1 =  5.268590452522923\n",
            "f1 =  -4.4743379742374865\n",
            "xu =  5.278640450004206\n",
            "fu =  -4.474240265209084\n",
            "d =  0.010049997481282581\n",
            "0.010049997481282581\n",
            "____________________________________________________________________________________________________\n",
            "xl =  5.26237921249264\n",
            "f1 =  -4.474322752749993\n",
            "x2 =  5.268590452522923\n",
            "f2 =  -4.4743379742374865\n",
            "x1 =  5.268590452522923\n",
            "f1 =  -4.474318459269156\n",
            "xu =  5.2724292099739225\n",
            "fu =  -4.474240265209084\n",
            "d =  0.006211240030283656\n",
            "0.006211240030283656\n",
            "____________________________________________________________________________________________________\n",
            "xl =  5.26237921249264\n",
            "f1 =  -4.474322752749993\n",
            "x2 =  5.266217969943638\n",
            "f2 =  -4.474338997727124\n",
            "x1 =  5.266217969943638\n",
            "f1 =  -4.4743379742374865\n",
            "xu =  5.268590452522924\n",
            "fu =  -4.474318459269156\n",
            "d =  0.0038387574509994755\n",
            "0.0038387574509994755\n",
            "____________________________________________________________________________________________________\n",
            "xl =  5.264751695071924\n",
            "f1 =  -4.474322752749993\n",
            "x2 =  5.266217969943639\n",
            "f2 =  -4.474335406759736\n",
            "x1 =  5.266217969943639\n",
            "f1 =  -4.474338997727124\n",
            "xu =  5.268590452522924\n",
            "fu =  -4.4743379742374865\n",
            "d =  0.0023724825792847287\n",
            "0.0023724825792847287\n",
            "____________________________________________________________________________________________________\n",
            "xl =  5.266217969943639\n",
            "f1 =  -4.474335406759736\n",
            "x2 =  5.267124177651208\n",
            "f2 =  -4.474338997727124\n",
            "x1 =  5.267124177651208\n",
            "f1 =  -4.474339603273328\n",
            "xu =  5.268590452522924\n",
            "fu =  -4.4743379742374865\n",
            "d =  0.0014662748717147467\n",
            "0.0014662748717147467\n",
            "____________________________________________________________________________________________________\n",
            "xl =  5.266217969943639\n",
            "f1 =  -4.474338997727124\n",
            "x2 =  5.267124177651209\n",
            "f2 =  -4.474339603273327\n",
            "x1 =  5.267124177651209\n",
            "f1 =  -4.474339361529481\n",
            "xu =  5.267684244815354\n",
            "fu =  -4.4743379742374865\n",
            "d =  0.0009062077075694331\n",
            "Min  -4.474339603273327\n"
          ]
        },
        {
          "output_type": "display_data",
          "data": {
            "text/plain": [
              "<Figure size 640x480 with 1 Axes>"
            ],
            "image/png": "[encoded data removed]"
          },
          "metadata": {}
        }
      ]
    }
  ]
}