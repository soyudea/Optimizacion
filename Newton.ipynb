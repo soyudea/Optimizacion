{
  "nbformat": 4,
  "nbformat_minor": 0,
  "metadata": {
    "colab": {
      "provenance": [],
      "authorship_tag": "ABX9TyNCc1URtnRON7NN6q5SJKXg",
      "include_colab_link": true
    },
    "kernelspec": {
      "name": "python3",
      "display_name": "Python 3"
    },
    "language_info": {
      "name": "python"
    }
  },
  "cells": [
    {
      "cell_type": "markdown",
      "metadata": {
        "id": "view-in-github",
        "colab_type": "text"
      },
      "source": [
        "<a href=\"https://colab.research.google.com/github/soyudea/Optimizacion/blob/main/Newton.ipynb\" target=\"_parent\"><img src=\"https://colab.research.google.com/assets/colab-badge.svg\" alt=\"Open In Colab\"/></a>"
      ]
    },
    {
      "cell_type": "markdown",
      "source": [
        "![20030cf80.gif](data:image/gif;base64,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)"
      ],
      "metadata": {
        "id": "35_opuZZe-vD"
      }
    },
    {
      "cell_type": "markdown",
      "source": [
        "**Carga de librerías**"
      ],
      "metadata": {
        "id": "Xi4FGD7igTq3"
      }
    },
    {
      "cell_type": "code",
      "source": [
        "import math\n",
        "import matplotlib.pyplot as plt\n",
        "import numpy as np\n",
        "from sympy import symbols\n",
        "from sympy import diff\n",
        "from sympy import sin\n",
        "from sympy import cos\n",
        "from scipy.misc import derivative"
      ],
      "metadata": {
        "id": "49wpXRgagGa9"
      },
      "execution_count": null,
      "outputs": []
    },
    {
      "cell_type": "markdown",
      "source": [
        "**Ingreso valor inicial**"
      ],
      "metadata": {
        "id": "04cITj60gs4E"
      }
    },
    {
      "cell_type": "code",
      "source": [
        "x0  = float(input(\"Ingrese la frontera inferior del intervalo x0 \"))\n",
        "err = float(input(\"Ingrese valor del error aceptable \"))"
      ],
      "metadata": {
        "id": "hSe5Up9AgzYu",
        "outputId": "1987fcf4-2384-470b-fd0b-5c5832effcbf",
        "colab": {
          "base_uri": "https://localhost:8080/"
        }
      },
      "execution_count": null,
      "outputs": [
        {
          "name": "stdout",
          "output_type": "stream",
          "text": [
            "Ingrese la frontera inferior del intervalo x0 2.5\n",
            "Ingrese valor del error aceptable 0.001\n"
          ]
        }
      ]
    },
    {
      "cell_type": "markdown",
      "source": [
        "**Grafica de f(x)  = 2*sen(x= - x^2/10**\n"
      ],
      "metadata": {
        "id": "jLm1BJDshCLr"
      }
    },
    {
      "cell_type": "code",
      "source": [
        "xl = 0\n",
        "xu = 8\n",
        "\n",
        "def graf_f():\n",
        "  X = list(np.arange(xl, xu, 0.01))\n",
        "  Y=[(2*math.sin(x) -(x**2)/10) for x in X]\n",
        "\n",
        "  plt.title(\"Funcion\")\n",
        "  plt.xlabel(\"f(x) = 2*sin(x) - x^2/10\")\n",
        "  plt.ylabel(\"Y\")\n",
        "  plt.plot(X,Y, \"r--\")\n",
        "  plt.axhline( 1.77572565314742, xmin=0, color=\"g\")\n",
        "  plt.grid()\n",
        "  plt.show()\n",
        "\n",
        "graf_f()"
      ],
      "metadata": {
        "id": "eIQ8u0mfhTuq",
        "outputId": "4c423016-8c8f-47ad-8134-abe974612dfb",
        "colab": {
          "base_uri": "https://localhost:8080/",
          "height": 472
        }
      },
      "execution_count": 148,
      "outputs": [
        {
          "output_type": "display_data",
          "data": {
            "text/plain": [
              "<Figure size 640x480 with 1 Axes>"
            ],
            "image/png": "[encoded data removed]"
          },
          "metadata": {}
        }
      ]
    },
    {
      "cell_type": "markdown",
      "source": [
        "**Clase Newton**"
      ],
      "metadata": {
        "id": "Aw4ygDUHi51T"
      }
    },
    {
      "cell_type": "code",
      "source": [
        "x = symbols('x')\n",
        "y = 2*sin(x) - x**2/10\n",
        "fprime = diff(y,x)\n",
        "fsecond = fprime.diff(x)\n",
        "print(fprime)\n",
        "print(fsecond)"
      ],
      "metadata": {
        "id": "xlDClbJuw4Dh",
        "outputId": "271c0277-8e1d-4f3c-d407-9acb8ba11edf",
        "colab": {
          "base_uri": "https://localhost:8080/"
        }
      },
      "execution_count": null,
      "outputs": [
        {
          "output_type": "stream",
          "name": "stdout",
          "text": [
            "-x/5 + 2*cos(x)\n",
            "-2*sin(x) - 1/5\n"
          ]
        }
      ]
    },
    {
      "cell_type": "code",
      "source": [
        "class Newton:\n",
        "  def __init__(self, x0, err):\n",
        "    self.__xi = x0\n",
        "    self.__xlast = 0\n",
        "    self.__f_last = 0\n",
        "    self.__err = err\n",
        "    self.__fd1 = 0\n",
        "    self.__fd2 = 0\n",
        "\n",
        "  def __derive(self, x):\n",
        "    fd1 = 2*math.cos(x) - (x)/5\n",
        "    fd2 = -2*math.sin(x) - 1/5\n",
        "    self.__fd1 = fd1\n",
        "    self.__fd2 = fd2\n",
        "\n",
        "  def __cal_x_mas(self, x):\n",
        "    self.__derive(x)\n",
        "    x_fut = 0\n",
        "    if self.__fd2 != 0:\n",
        "       x_fut = x - self.__fd1/self.__fd2\n",
        "    return x_fut\n",
        "\n",
        "  def __cal_f(self, x):\n",
        "      f = 2*sin(x) - x**2/10\n",
        "      return f\n",
        "\n",
        "  def __printf(self,i, x,f, fd1,fd2, dif_x):\n",
        "      print(\"_______________________________________Resultados_________________________________________\")\n",
        "      print(\"i = \",i)\n",
        "      print(\"x = \",x)\n",
        "      print(\"f(x) = \",f)\n",
        "      print(\"f'(x) = \", fd1)\n",
        "      print(\"f''(x) = \", fd2)\n",
        "      print(\"dif_x = \", dif_x)\n",
        "\n",
        "  def Max(self):\n",
        "      dif_x = 1\n",
        "      xlast = 0\n",
        "      xfut =0\n",
        "      i = 0\n",
        "      while  dif_x != 0:\n",
        "         xfut = self.__cal_x_mas(self.__xi)\n",
        "         self.__f_last = self.__cal_f(self.__xi)\n",
        "         self.__printf(i,self.__xi, self.__f_last, self.__fd1, self.__fd2, dif_x)\n",
        "\n",
        "         self.__xlast = self.__xi\n",
        "         self.__xi = xfut\n",
        "         dif_x = self.__xi - self.__xlast\n",
        "         i += 1\n",
        "\n",
        "      return self.__f_last\n",
        "\n"
      ],
      "metadata": {
        "id": "OeUIdlQgjDTv"
      },
      "execution_count": 150,
      "outputs": []
    },
    {
      "cell_type": "code",
      "source": [
        "def main():\n",
        "  obj = Newton(x0, err)\n",
        "  print(\"Maximo de f(x) = \",obj.Max())\n",
        "if __name__=='__main__':\n",
        "   main()"
      ],
      "metadata": {
        "id": "-iX8C-mEo04b",
        "outputId": "cbf0dca1-2a20-4ab8-9c83-7e660fc19480",
        "colab": {
          "base_uri": "https://localhost:8080/"
        }
      },
      "execution_count": 152,
      "outputs": [
        {
          "output_type": "stream",
          "name": "stdout",
          "text": [
            "_______________________________________Resultados_________________________________________\n",
            "i =  0\n",
            "x =  2.5\n",
            "f(x) =  0.571944288207913\n",
            "f'(x) =  -2.102287231093867\n",
            "f''(x) =  -1.396944288207913\n",
            "dif_x =  1\n",
            "_______________________________________Resultados_________________________________________\n",
            "i =  1\n",
            "x =  0.9950815513259932\n",
            "f(x) =  1.57858800724688\n",
            "f'(x) =  0.8898526612955174\n",
            "f''(x) =  -1.8776067366258125\n",
            "dif_x =  -1.5049184486740068\n",
            "_______________________________________Resultados_________________________________________\n",
            "i =  2\n",
            "x =  1.4690107527596457\n",
            "f(x) =  1.77384937931422\n",
            "f'(x) =  -0.09058233023771725\n",
            "f''(x) =  -2.1896486384865694\n",
            "dif_x =  0.47392920143365247\n",
            "_______________________________________Resultados_________________________________________\n",
            "i =  3\n",
            "x =  1.4276423210187772\n",
            "f(x) =  1.77572564421365\n",
            "f'(x) =  -0.0001973394672618034\n",
            "f''(x) =  -2.179541903890041\n",
            "dif_x =  -0.04136843174086846\n",
            "_______________________________________Resultados_________________________________________\n",
            "i =  4\n",
            "x =  1.4275517793013137\n",
            "f(x) =  1.77572565314742\n",
            "f'(x) =  -1.1697889878981016e-09\n",
            "f''(x) =  -2.17951606140605\n",
            "dif_x =  -9.054171746347706e-05\n",
            "_______________________________________Resultados_________________________________________\n",
            "i =  5\n",
            "x =  1.4275517787645942\n",
            "f(x) =  1.77572565314742\n",
            "f'(x) =  -1.1102230246251565e-16\n",
            "f''(x) =  -2.179516061252811\n",
            "dif_x =  -5.367195576866379e-10\n",
            "Maximo de f(x) =  1.77572565314742\n"
          ]
        }
      ]
    }
  ]
}