{
  "nbformat": 4,
  "nbformat_minor": 0,
  "metadata": {
    "colab": {
      "provenance": [],
      "include_colab_link": true
    },
    "kernelspec": {
      "name": "python3",
      "display_name": "Python 3"
    },
    "language_info": {
      "name": "python"
    }
  },
  "cells": [
    {
      "cell_type": "markdown",
      "metadata": {
        "id": "view-in-github",
        "colab_type": "text"
      },
      "source": [
        "<a href=\"https://colab.research.google.com/github/soyudea/Optimizacion/blob/main/Biseccion_.ipynb\" target=\"_parent\"><img src=\"https://colab.research.google.com/assets/colab-badge.svg\" alt=\"Open In Colab\"/></a>"
      ]
    },
    {
      "cell_type": "markdown",
      "source": [
        "Algoritmo de bisección\n",
        "Omar torres![Biseccion.png](data:image/png;base64,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)"
      ],
      "metadata": {
        "id": "tNvRwHVJAnc6"
      }
    },
    {
      "cell_type": "code",
      "source": [
        "import math\n",
        "import matplotlib.pyplot as plt\n",
        "import numpy as np"
      ],
      "metadata": {
        "id": "xx8HbuO2AhWq"
      },
      "execution_count": 1,
      "outputs": []
    },
    {
      "cell_type": "markdown",
      "source": [
        "**Inicialización de variable**"
      ],
      "metadata": {
        "id": "7v_9yj3nkXjf"
      }
    },
    {
      "cell_type": "code",
      "source": [
        "err = float(input(\"Digite el error aceptable\"))\n",
        "xl  = int(input(\"Ingrese la frontera inferior del intervalo\"))\n",
        "xu  = int(input(\"Ingrese la frontera superior del intervalo\"))\n",
        "\n",
        "xr_i = 0\n",
        "xr_f = 0\n",
        "#f(x) = x^4 + 3*x^3 - 4\n"
      ],
      "metadata": {
        "colab": {
          "base_uri": "https://localhost:8080/"
        },
        "id": "FwNBC16_iw-m",
        "outputId": "ff395393-318c-4403-deae-4122014eb7d7"
      },
      "execution_count": 26,
      "outputs": [
        {
          "name": "stdout",
          "output_type": "stream",
          "text": [
            "Digite el error aceptable0.001\n",
            "Ingrese la frontera inferior del intervalo0\n",
            "Ingrese la frontera superior del intervalo1\n"
          ]
        }
      ]
    },
    {
      "cell_type": "markdown",
      "source": [
        "Grafica de f(x)"
      ],
      "metadata": {
        "id": "7Jejdn5-oDfw"
      }
    },
    {
      "cell_type": "code",
      "source": [
        "def graf_function():\n",
        "  X = list(np.arange(xl,xu, err))\n",
        "  Y=[((x**4)+ 3*(x**3) - 2) for x in X]\n",
        "\n",
        "  plt.title(\"Funcion\")\n",
        "  plt.xlabel(\"f(x) = x^4 + 3*x^3 - 2\")\n",
        "  plt.ylabel(\"Y\")\n",
        "  plt.plot(X,Y, \"r--\")\n",
        "  plt.axvline(x=0.806884765625, ymin=0.0, ymax=30)\n",
        "  plt.grid()\n",
        "  plt.show()\n",
        "\n",
        "graf_function()"
      ],
      "metadata": {
        "colab": {
          "base_uri": "https://localhost:8080/",
          "height": 472
        },
        "id": "aFmARenypC_5",
        "outputId": "5c714b7d-c41d-4ea1-fffd-9d74c45a60d2"
      },
      "execution_count": 29,
      "outputs": [
        {
          "output_type": "display_data",
          "data": {
            "text/plain": [
              "<Figure size 640x480 with 1 Axes>"
            ],
            "image/png": "[encoded data removed]"
          },
          "metadata": {}
        }
      ]
    },
    {
      "cell_type": "markdown",
      "source": [
        "Grafica de f(x) = 2*sin(x) - x^2/10"
      ],
      "metadata": {
        "id": "jUWwwdSokd2r"
      }
    },
    {
      "cell_type": "markdown",
      "source": [
        "**Clase Biseccion**\n"
      ],
      "metadata": {
        "id": "H4aBEizIknGq"
      }
    },
    {
      "cell_type": "code",
      "source": [
        "class Biseccion:\n",
        "  def __init__(self, xl,xu,err):\n",
        "    self.__xl = xl\n",
        "    self.__xu =xu\n",
        "    self.__xr_i = 0\n",
        "    self.__xr_f = 10\n",
        "    self.__err = err\n",
        "    self.__err_actual =10\n",
        "    self.__convergencia = False\n",
        "    self.__n = 100    #Calcularlo\n",
        "\n",
        "\n",
        "  def  __raiz_aprox(self):\n",
        "    self.__xr_f = (self.__xl+ self.__xu)/2\n",
        "\n",
        "  def __errorAptual(self):\n",
        "    error=0\n",
        "    if self.__xr_f != 0:\n",
        "      error = (self.__xr_f - self.__xr_i)/self.__xr_f\n",
        "    self.__err_actual = np.abs(error)\n",
        "    return self.__err_actual\n",
        "\n",
        "  def get_error(self):\n",
        "      return self.__err_actual\n",
        "\n",
        "  def __conver(self):\n",
        "       fl = ((self.__xl**4)+ 3*(self.__xl**3) - 2)\n",
        "       fu = ((self.__xu**4)+ 3*(self.__xu**3) - 2)\n",
        "\n",
        "       if fl*fu < 0:\n",
        "         self.__converencia = False  #Hay convergencia\n",
        "       else:   self.__convegencia=True\n",
        "       return self.__convergencia\n",
        "\n",
        "  def __cal_funtions(self):\n",
        "    fxl = ((self.__xl**4)+ 3*(self.__xl**3) - 2)      #Calcula f(xl)\n",
        "    fxr = ((self.__xr_f**4)+ 3*(self.__xr_f**3) - 2)  #Calcula f(xr)\n",
        "    return fxl, fxr\n",
        "\n",
        "  def __printf(self, i,xl ,xu,xrf,err):                              #Imprime los valores parciales de los f(x) y el error\n",
        "      print(\"______________________________________________________________________________________________________\")\n",
        "     # i,self.__xr_i,,self.__xu,self.__xr_f,self.__err_actual\n",
        "      print(\"i = \", i)\n",
        "      print(\"xl = \",xl)\n",
        "      print(\"xu = \",xu)\n",
        "      print(\"xrf = \",xrf)\n",
        "      print(\"error = \",err, \"%\")\n",
        "\n",
        "\n",
        "  def calF_raiz(self):\n",
        "        salir =True\n",
        "        err =  self.__err_actual\n",
        "        i =0\n",
        "        # and self.__n != 0\n",
        "        while ((err >= self.__err) and self.__n != 0) :\n",
        "          i = i+1\n",
        "          self.__printf(i,self.__xl,self.__xu,self.__xr_f,self.__err_actual)\n",
        "          self.__n -=1\n",
        "          err = self.__errorAptual()\n",
        "          self.__xr_i  = self.__xr_f\n",
        "          self.__raiz_aprox()\n",
        "          fxl, fxr =self.__cal_funtions()\n",
        "          if self.__conver() == False:\n",
        "            if fxl*fxr < 0:                     #Evalua producto de funciones para hacer el cambio de las fronteras intervalo de convergencia\n",
        "              self.__xu = self.__xr_f\n",
        "            elif fxl*fxr > 0:\n",
        "              self.__xl = self.__xr_f\n",
        "            elif   fxl*fxr == 0:\n",
        "              salir=False\n",
        "            else:\n",
        "              salir = False\n",
        "\n",
        "        return self.__xr_f\n",
        "\n",
        "\n"
      ],
      "metadata": {
        "id": "zTfDNfUQkz8h"
      },
      "execution_count": 23,
      "outputs": []
    },
    {
      "cell_type": "markdown",
      "source": [
        "**Programa principal**"
      ],
      "metadata": {
        "id": "FFX9YB5DLKNJ"
      }
    },
    {
      "cell_type": "code",
      "source": [
        "def main():\n",
        "  obj_biseccion= Biseccion(xl,xu,err)\n",
        "  result = obj_biseccion.calF_raiz()\n",
        "  error = obj_biseccion.get_error()\n",
        "  print(\"______________________________________________________________________________________________________\")\n",
        "  print(\"Raiz = \",result)\n",
        "  print(\"Error \",error)\n",
        "\n",
        "if __name__=='__main__':\n",
        "   main()"
      ],
      "metadata": {
        "colab": {
          "base_uri": "https://localhost:8080/"
        },
        "id": "CtHa1ETcLQXa",
        "outputId": "615a35e8-586c-4c72-9fc9-a6190830d135"
      },
      "execution_count": 30,
      "outputs": [
        {
          "output_type": "stream",
          "name": "stdout",
          "text": [
            "______________________________________________________________________________________________________\n",
            "i =  1\n",
            "xl =  0\n",
            "xu =  1\n",
            "xrf =  10\n",
            "error =  10 %\n",
            "______________________________________________________________________________________________________\n",
            "i =  2\n",
            "xl =  0.5\n",
            "xu =  1\n",
            "xrf =  0.5\n",
            "error =  1.0 %\n",
            "______________________________________________________________________________________________________\n",
            "i =  3\n",
            "xl =  0.75\n",
            "xu =  1\n",
            "xrf =  0.75\n",
            "error =  19.0 %\n",
            "______________________________________________________________________________________________________\n",
            "i =  4\n",
            "xl =  0.75\n",
            "xu =  0.875\n",
            "xrf =  0.875\n",
            "error =  0.3333333333333333 %\n",
            "______________________________________________________________________________________________________\n",
            "i =  5\n",
            "xl =  0.75\n",
            "xu =  0.8125\n",
            "xrf =  0.8125\n",
            "error =  0.14285714285714285 %\n",
            "______________________________________________________________________________________________________\n",
            "i =  6\n",
            "xl =  0.78125\n",
            "xu =  0.8125\n",
            "xrf =  0.78125\n",
            "error =  0.07692307692307693 %\n",
            "______________________________________________________________________________________________________\n",
            "i =  7\n",
            "xl =  0.796875\n",
            "xu =  0.8125\n",
            "xrf =  0.796875\n",
            "error =  0.04 %\n",
            "______________________________________________________________________________________________________\n",
            "i =  8\n",
            "xl =  0.8046875\n",
            "xu =  0.8125\n",
            "xrf =  0.8046875\n",
            "error =  0.0196078431372549 %\n",
            "______________________________________________________________________________________________________\n",
            "i =  9\n",
            "xl =  0.8046875\n",
            "xu =  0.80859375\n",
            "xrf =  0.80859375\n",
            "error =  0.009708737864077669 %\n",
            "______________________________________________________________________________________________________\n",
            "i =  10\n",
            "xl =  0.806640625\n",
            "xu =  0.80859375\n",
            "xrf =  0.806640625\n",
            "error =  0.004830917874396135 %\n",
            "______________________________________________________________________________________________________\n",
            "i =  11\n",
            "xl =  0.806640625\n",
            "xu =  0.8076171875\n",
            "xrf =  0.8076171875\n",
            "error =  0.002421307506053269 %\n",
            "______________________________________________________________________________________________________\n",
            "i =  12\n",
            "xl =  0.806640625\n",
            "xu =  0.80712890625\n",
            "xrf =  0.80712890625\n",
            "error =  0.0012091898428053204 %\n",
            "______________________________________________________________________________________________________\n",
            "Raiz =  0.806884765625\n",
            "Error  0.0006049606775559589\n"
          ]
        }
      ]
    }
  ]
}