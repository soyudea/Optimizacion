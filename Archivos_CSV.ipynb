{
  "nbformat": 4,
  "nbformat_minor": 0,
  "metadata": {
    "colab": {
      "provenance": [],
      "authorship_tag": "ABX9TyOX7C6HkagRZHh0WXShi59x",
      "include_colab_link": true
    },
    "kernelspec": {
      "name": "python3",
      "display_name": "Python 3"
    },
    "language_info": {
      "name": "python"
    }
  },
  "cells": [
    {
      "cell_type": "markdown",
      "metadata": {
        "id": "view-in-github",
        "colab_type": "text"
      },
      "source": [
        "<a href=\"https://colab.research.google.com/github/soyudea/Optimizacion/blob/main/Archivos_CSV.ipynb\" target=\"_parent\"><img src=\"https://colab.research.google.com/assets/colab-badge.svg\" alt=\"Open In Colab\"/></a>"
      ]
    },
    {
      "cell_type": "code",
      "execution_count": 74,
      "metadata": {
        "id": "KUh_xDIVRxrv"
      },
      "outputs": [],
      "source": [
        "import csv\n",
        "import os\n",
        "from google.colab import files\n",
        "from google.colab import drive"
      ]
    },
    {
      "cell_type": "code",
      "source": [
        "from tempfile import NamedTemporaryFile\n",
        "class Personas(object):\n",
        "   def __init__(self, nombres, apellidos, email, edad, salario, direccion):\n",
        "       self.nombres = nombres\n",
        "       self.apellidos = apellidos\n",
        "       self.email =email\n",
        "       self.edad = edad\n",
        "       self.salario = salario\n",
        "       self.direccion = direccion\n",
        "       self.cabeceras = [\"Nombres\", \"Apellidos\", \"Email\", \"Edad\", \"Salario\", \"Direccion\"]\n",
        "       self.rutaArchivo = None\n",
        "\n",
        "   def createFile(self,nameFile, ruta):   #Recibe el nombre del usuario y la ruta\n",
        "       rutaArchivo = os.path.join(ruta, NamedTemporaryFile)\n",
        "       with open(rutaArchivo, 'w', newline='') as archivo_csv:\n",
        "          escritor_csv = csv.writer(archivo_csv)\n",
        "          escritor_csv.writerows(self.cabeceras)\n",
        "\n",
        "   def  getRutaArchivo(self):\n",
        "        return self.nameFile\n",
        "\n",
        "   def anexaRegister(self, rutaArchivo, registro):\n",
        "        with open(rutaArchivo, 'a', newline='') as archivo_csv:\n",
        "           escritor_csv = csv.DictWriter(archivo_csv, fieldnames = self.cabeceras)\n",
        "           if archivo_csv.tell() == 0:   #Si vacío escribe el nombre de las columnas\n",
        "                escritor_csv.writeheader()\n",
        "           escritor_csv.writerow(registro)     #Si el archivo no esta vacío recibe un nuevo registro que se anexa al final de la fila\n"
      ],
      "metadata": {
        "id": "mqrvzbTIWstO"
      },
      "execution_count": 83,
      "outputs": []
    },
    {
      "cell_type": "code",
      "source": [
        "drive.mount('/content/drive') # Monta Google Drive\n",
        "\n",
        "datos = [\n",
        "    ['Nombre', 'Edad', 'Ciudad'],\n",
        "    ['Juan', 25, 'Buenos Aires'],\n",
        "    ['María', 30, 'Madrid'],\n",
        "    ['Carlos', 28, 'Ciudad de México']\n",
        "]\n",
        "ruta = \"/content/drive/MyDrive\"\n",
        "nombre_archivo = os.path.join(ruta, 'Misdatos.csv')\n",
        "with open(nombre_archivo, 'w', newline='') as archivo_csv:\n",
        "    escritor_csv = csv.writer(archivo_csv)\n",
        "    escritor_csv.writerows(datos)\n",
        "\n",
        "files.download(nombre_archivo)\n",
        "print(f'Se ha creado el archivo CSV en: {nombre_archivo}')"
      ],
      "metadata": {
        "colab": {
          "base_uri": "https://localhost:8080/",
          "height": 72
        },
        "id": "592VCp-RjTCf",
        "outputId": "05b55d7e-e68a-4d3c-a793-b2d3089bdd65"
      },
      "execution_count": 75,
      "outputs": [
        {
          "output_type": "stream",
          "name": "stdout",
          "text": [
            "Drive already mounted at /content/drive; to attempt to forcibly remount, call drive.mount(\"/content/drive\", force_remount=True).\n"
          ]
        },
        {
          "output_type": "display_data",
          "data": {
            "text/plain": [
              "<IPython.core.display.Javascript object>"
            ],
            "application/javascript": [
              "\n",
              "    async function download(id, filename, size) {\n",
              "      if (!google.colab.kernel.accessAllowed) {\n",
              "        return;\n",
              "      }\n",
              "      const div = document.createElement('div');\n",
              "      const label = document.createElement('label');\n",
              "      label.textContent = `Downloading \"${filename}\": `;\n",
              "      div.appendChild(label);\n",
              "      const progress = document.createElement('progress');\n",
              "      progress.max = size;\n",
              "      div.appendChild(progress);\n",
              "      document.body.appendChild(div);\n",
              "\n",
              "      const buffers = [];\n",
              "      let downloaded = 0;\n",
              "\n",
              "      const channel = await google.colab.kernel.comms.open(id);\n",
              "      // Send a message to notify the kernel that we're ready.\n",
              "      channel.send({})\n",
              "\n",
              "      for await (const message of channel.messages) {\n",
              "        // Send a message to notify the kernel that we're ready.\n",
              "        channel.send({})\n",
              "        if (message.buffers) {\n",
              "          for (const buffer of message.buffers) {\n",
              "            buffers.push(buffer);\n",
              "            downloaded += buffer.byteLength;\n",
              "            progress.value = downloaded;\n",
              "          }\n",
              "        }\n",
              "      }\n",
              "      const blob = new Blob(buffers, {type: 'application/binary'});\n",
              "      const a = document.createElement('a');\n",
              "      a.href = window.URL.createObjectURL(blob);\n",
              "      a.download = filename;\n",
              "      div.appendChild(a);\n",
              "      a.click();\n",
              "      div.remove();\n",
              "    }\n",
              "  "
            ]
          },
          "metadata": {}
        },
        {
          "output_type": "display_data",
          "data": {
            "text/plain": [
              "<IPython.core.display.Javascript object>"
            ],
            "application/javascript": [
              "download(\"download_0000e4e2-517f-4795-8bc8-4c6e4956d7dc\", \"Misdatos.csv\", 89)"
            ]
          },
          "metadata": {}
        },
        {
          "output_type": "stream",
          "name": "stdout",
          "text": [
            "Se ha creado el archivo CSV en: /content/drive/MyDrive/Misdatos.csv\n"
          ]
        }
      ]
    },
    {
      "cell_type": "code",
      "source": [
        "edades =[]\n",
        "def lectorDatos(ruta_archivo):\n",
        "  with open(ruta_archivo, 'r') as archivo_csv:\n",
        "    lectorDatos = csv.DictReader(archivo_csv)\n",
        "    for fila in lectorDatos:\n",
        "      fila['Edad'] = int(fila['Edad'])\n",
        "      edades.append(fila)\n",
        "  return edades\n",
        "colEdad = lectorDatos(nombre_archivo)\n",
        "print(colEdad)\n"
      ],
      "metadata": {
        "colab": {
          "base_uri": "https://localhost:8080/"
        },
        "id": "6upCgfYNIB8q",
        "outputId": "1bb5f548-7248-4f7e-ad92-ca809966c0a0"
      },
      "execution_count": 81,
      "outputs": [
        {
          "output_type": "stream",
          "name": "stdout",
          "text": [
            "[{'Nombre': 'Juan', 'Edad': 25, 'Ciudad': 'Buenos Aires'}, {'Nombre': 'María', 'Edad': 30, 'Ciudad': 'Madrid'}, {'Nombre': 'Carlos', 'Edad': 28, 'Ciudad': 'Ciudad de México'}]\n"
          ]
        }
      ]
    },
    {
      "cell_type": "code",
      "source": [
        "def persona_mayor(personas):\n",
        "    if not personas:\n",
        "        return None  # Devolver None si la lista está vacía\n",
        "    persona_mayor = max(personas, key=lambda personas: personas['Edad'])\n",
        "    return persona_mayor\n",
        "\n",
        "persona_mayor = persona_mayor(colEdad)\n",
        "\n",
        "if persona_mayor:\n",
        "    print(f\"La persona de mayor edad es {persona_mayor['Nombre']} con {persona_mayor['Edad']} años. y Ciudad: {persona_mayor['Ciudad']}\")\n",
        "else:\n",
        "    print(\"No hay datos de personas para analizar.\")"
      ],
      "metadata": {
        "colab": {
          "base_uri": "https://localhost:8080/"
        },
        "id": "ThnV7EppNgDw",
        "outputId": "15095e96-0566-477f-e7bf-ae35746d95f3"
      },
      "execution_count": 82,
      "outputs": [
        {
          "output_type": "stream",
          "name": "stdout",
          "text": [
            "La persona de mayor edad es María con 30 años. y Ciudad: Madrid\n"
          ]
        }
      ]
    }
  ]
}