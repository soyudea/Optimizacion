{
  "nbformat": 4,
  "nbformat_minor": 0,
  "metadata": {
    "colab": {
      "provenance": [],
      "authorship_tag": "ABX9TyNJHnBPyHv/7hc4Bu9zIugh",
      "include_colab_link": true
    },
    "kernelspec": {
      "name": "python3",
      "display_name": "Python 3"
    },
    "language_info": {
      "name": "python"
    }
  },
  "cells": [
    {
      "cell_type": "markdown",
      "metadata": {
        "id": "view-in-github",
        "colab_type": "text"
      },
      "source": [
        "<a href=\"https://colab.research.google.com/github/soyudea/Optimizacion/blob/main/SCPY.ipynb\" target=\"_parent\"><img src=\"https://colab.research.google.com/assets/colab-badge.svg\" alt=\"Open In Colab\"/></a>"
      ]
    },
    {
      "cell_type": "code",
      "execution_count": 1,
      "metadata": {
        "id": "n6myHY8M6ZyH"
      },
      "outputs": [],
      "source": [
        "#!pip install numdifftools\n",
        "#import numdifftools as ndt\n",
        "from sympy import symbols, sin, cos, exp, diff, tan, simplify,solve,Eq\n",
        "import numpy as np\n"
      ]
    },
    {
      "cell_type": "code",
      "source": [
        "def f(x):\n",
        "  return x**2\n",
        "\n",
        "der = ndt.Derivative(f)(2)\n",
        "print(der)"
      ],
      "metadata": {
        "colab": {
          "base_uri": "https://localhost:8080/"
        },
        "id": "4fZJIbcU8_7L",
        "outputId": "b2d452b5-3bc8-4b4f-d7a8-7222cdc38587"
      },
      "execution_count": null,
      "outputs": [
        {
          "output_type": "stream",
          "name": "stdout",
          "text": [
            "4.0\n"
          ]
        }
      ]
    },
    {
      "cell_type": "markdown",
      "source": [
        "**Derivación simbolica**"
      ],
      "metadata": {
        "id": "w5DVXj6-_SX8"
      }
    },
    {
      "cell_type": "code",
      "source": [
        "x = symbols('x')\n",
        "f = x**2 +3*x +5\n",
        "der = diff(f,x)\n",
        "print(\"Derivada de f(x) = \", der)"
      ],
      "metadata": {
        "colab": {
          "base_uri": "https://localhost:8080/"
        },
        "id": "ph7DzfRU_X_v",
        "outputId": "598009f4-e757-4a33-80db-a2a4edb836c0"
      },
      "execution_count": null,
      "outputs": [
        {
          "output_type": "stream",
          "name": "stdout",
          "text": [
            "Derivada de f(x) =  2*x + 3\n"
          ]
        }
      ]
    },
    {
      "cell_type": "code",
      "source": [
        "x = symbols('x')\n",
        "f = sin(x)*exp(2*x) + cos(3*x)/(x**2 +1)\n",
        "der = diff(f,x)\n",
        "print(\"Derivada de f(x) : = \",der)"
      ],
      "metadata": {
        "colab": {
          "base_uri": "https://localhost:8080/"
        },
        "id": "vg0ULhK1BfIQ",
        "outputId": "fd327d86-fb37-433d-f505-dc06b3cc673e"
      },
      "execution_count": null,
      "outputs": [
        {
          "output_type": "stream",
          "name": "stdout",
          "text": [
            "Derivada de f(x) : =  -2*x*cos(3*x)/(x**2 + 1)**2 + 2*exp(2*x)*sin(x) + exp(2*x)*cos(x) - 3*sin(3*x)/(x**2 + 1)\n"
          ]
        }
      ]
    },
    {
      "cell_type": "code",
      "source": [
        "x = symbols('x')\n",
        "f= sin(x)\n",
        "g= cos(x)\n",
        "t = tan(x)\n",
        "der_p = diff(f*g*t,x)\n",
        "print(\" (f*g)' = \",der_p)"
      ],
      "metadata": {
        "colab": {
          "base_uri": "https://localhost:8080/"
        },
        "id": "3T7Nx6KMEAz8",
        "outputId": "fa2ec393-48d2-4e7f-9c99-a3652c986abc"
      },
      "execution_count": null,
      "outputs": [
        {
          "output_type": "stream",
          "name": "stdout",
          "text": [
            " (f*g)' =  (tan(x)**2 + 1)*sin(x)*cos(x) - sin(x)**2*tan(x) + cos(x)**2*tan(x)\n"
          ]
        }
      ]
    },
    {
      "cell_type": "code",
      "source": [
        "\n",
        "# Solicitar al usuario que ingrese la función como una cadena\n",
        "expresion_usuario = input(\"Ingrese la función en términos de x: \")\n",
        "\n",
        "# Definir la variable simbólica\n",
        "x = symbols('x')\n",
        "\n",
        "try:\n",
        "    # Convertir la cadena de entrada en una expresión simbólica\n",
        "    funcion = simplify(eval(expresion_usuario))\n",
        "\n",
        "    # Calcular la derivada de la función ingresada\n",
        "    derivada = diff(funcion, x)\n",
        "\n",
        "    # Imprimir la expresión de la derivada\n",
        "    print(\"La derivada de la función ingresada es:\", derivada)\n",
        "\n",
        "except Exception as e:\n",
        "    print(\"Error: No se pudo calcular la derivada. Asegúrate de ingresar una expresión válida.\")\n",
        "    print(\"Mensaje de error:\", str(e))"
      ],
      "metadata": {
        "id": "VhYZHmExGJaW"
      },
      "execution_count": null,
      "outputs": []
    },
    {
      "cell_type": "code",
      "source": [
        "exp = input(\"Escriba f(x) en notacion de python \")\n",
        "x = symbols('x')\n",
        "try:\n",
        "  f = simplify(eval(exp))\n",
        "  derivada = diff(f,x)\n",
        "  print(\"f(x)' = \", derivada)\n",
        "except Exception as e:\n",
        "  print(\"Error al derivar f(x)\\n\")\n",
        "  print(\"Error: \",e)\n"
      ],
      "metadata": {
        "colab": {
          "base_uri": "https://localhost:8080/"
        },
        "id": "Gz0v2UgJG1oD",
        "outputId": "49635556-53a6-44d5-848d-d585a4591cef"
      },
      "execution_count": null,
      "outputs": [
        {
          "output_type": "stream",
          "name": "stdout",
          "text": [
            "Escriba f(x) en notacion de python sin(3*x) + x**3\n",
            "f(x)' =  3*x**2 + 3*cos(3*x)\n"
          ]
        }
      ]
    },
    {
      "cell_type": "code",
      "source": [
        "exp = input(\"Digite la funcion f(x)\")\n",
        "x = symbols('x')\n",
        "exp = simplify(eval(exp))\n",
        "der = diff(exp,x)\n",
        "puntos_criticos = solve(der, x)\n",
        "print(\"f'(x) = \", der)\n",
        "print(\"Puntos criticos \", puntos_criticos)"
      ],
      "metadata": {
        "colab": {
          "base_uri": "https://localhost:8080/"
        },
        "id": "k_EIuAnD65G1",
        "outputId": "50a37869-5d6e-4845-b067-f53556256a08"
      },
      "execution_count": null,
      "outputs": [
        {
          "output_type": "stream",
          "name": "stdout",
          "text": [
            "Digite la funcion f(x)x*(24-2*x)**2\n",
            "f'(x) =  4*x*(2*x - 24) + 4*(x - 12)**2\n",
            "Puntos criticos  [4, 12]\n"
          ]
        }
      ]
    },
    {
      "cell_type": "markdown",
      "source": [
        "Solucion de ecuaciones"
      ],
      "metadata": {
        "id": "UIP0y843GRpA"
      }
    },
    {
      "cell_type": "code",
      "source": [
        "x,y,z = symbols('x y z')\n",
        "E1 = Eq(2*x+y-z, 5)\n",
        "E2 = Eq(-3*x + 2*y +4*z, -7)\n",
        "E3 = Eq(x-y + 3*z,10)\n",
        "\n",
        "solucion = solve((E1,E2,E3), (x,y,z))\n",
        "print(solucion)"
      ],
      "metadata": {
        "id": "BeH9P8-yGUwe",
        "colab": {
          "base_uri": "https://localhost:8080/"
        },
        "outputId": "54a20603-373d-468f-fb5c-ae2c0c9de343"
      },
      "execution_count": 3,
      "outputs": [
        {
          "output_type": "stream",
          "name": "stdout",
          "text": [
            "{x: 31/8, y: -17/16, z: 27/16}\n"
          ]
        }
      ]
    },
    {
      "cell_type": "code",
      "source": [
        "from sympy import symbols, Eq, solve\n",
        "\n",
        "# Pedir al usuario que ingrese las ecuaciones\n",
        "print(\"Por favor, ingrese las ecuaciones en función de x, y, z.\")\n",
        "ecuacion1 = input(\"Ecuación 1: \")\n",
        "ecuacion2 = input(\"Ecuación 2: \")\n",
        "ecuacion3 = input(\"Ecuación 3: \")\n",
        "\n",
        "# Separar los términos del lado izquierdo y derecho del signo \"=\"\n",
        "coeficientes1, constante1 = map(str.strip, ecuacion1.split('='))\n",
        "coeficientes2, constante2 = map(str.strip, ecuacion2.split('='))\n",
        "coeficientes3, constante3 = map(str.strip, ecuacion3.split('='))\n",
        "\n",
        "# Definir las variables\n",
        "x, y, z = symbols('x y z')\n",
        "\n",
        "# Convertir las cadenas de entrada en ecuaciones\n",
        "E1 = Eq(eval(coeficientes1), int(constante1))\n",
        "E2 = Eq(eval(coeficientes2), int(constante2))\n",
        "E3 = Eq(eval(coeficientes3), int(constante3))\n",
        "\n",
        "# Resolver el sistema de ecuaciones\n",
        "solucion = solve((E1, E2, E3), (x, y, z))\n",
        "\n",
        "# Mostrar la solución\n",
        "print(\"La solución del sistema de ecuaciones es:\")\n",
        "print(\"x =\", solucion[x])\n",
        "print(\"y =\", solucion[y])\n",
        "print(\"z =\", solucion[z])"
      ],
      "metadata": {
        "colab": {
          "base_uri": "https://localhost:8080/"
        },
        "id": "RKimIygHLULf",
        "outputId": "75981af5-6739-4749-8382-3b2836a7aa58"
      },
      "execution_count": 2,
      "outputs": [
        {
          "output_type": "stream",
          "name": "stdout",
          "text": [
            "Por favor, ingrese las ecuaciones en función de x, y, z.\n",
            "Ecuación 1: 2*x +y -z = 5\n",
            "Ecuación 2: -3*x+2*y+4*z=-7\n",
            "Ecuación 3: x-y +3*z = 10\n",
            "La solución del sistema de ecuaciones es:\n",
            "x = 31/8\n",
            "y = -17/16\n",
            "z = 27/16\n"
          ]
        }
      ]
    },
    {
      "cell_type": "markdown",
      "source": [
        "Integracion"
      ],
      "metadata": {
        "id": "VHEsn5X3S-ID"
      }
    },
    {
      "cell_type": "code",
      "source": [
        "import sympy as sp\n",
        "\n",
        "# Definir símbolos y la función a integrar\n",
        "x = sp.symbols('x')\n",
        "funcion_a_integrar = x**2 + 3*x + 5\n",
        "\n",
        "# Realizar la integración indefinida\n",
        "integral_indefinida = sp.integrate(funcion_a_integrar, x)\n",
        "\n",
        "# Imprimir la integral indefinida\n",
        "print(\"Integral indefinida:\", integral_indefinida)"
      ],
      "metadata": {
        "colab": {
          "base_uri": "https://localhost:8080/"
        },
        "id": "fCy39446TAhs",
        "outputId": "3e96ae14-b6e1-4901-a971-c2e60d076944"
      },
      "execution_count": 3,
      "outputs": [
        {
          "output_type": "stream",
          "name": "stdout",
          "text": [
            "Integral indefinida: x**3/3 + 3*x**2/2 + 5*x\n"
          ]
        }
      ]
    },
    {
      "cell_type": "code",
      "source": [
        "x = sp.symbols('x')\n",
        "fexp = input(\"Digite f(x) = \")\n",
        "f = sp.simplify(eval(fexp))\n",
        "integral = sp.integrate(f,x)\n",
        "print(\"Integral de f(x) = \", integral)"
      ],
      "metadata": {
        "colab": {
          "base_uri": "https://localhost:8080/"
        },
        "id": "TTSPccp0T01v",
        "outputId": "fc171974-abd5-47dc-ddba-26e65958ba28"
      },
      "execution_count": 13,
      "outputs": [
        {
          "output_type": "stream",
          "name": "stdout",
          "text": [
            "Digite f(x) = 2*x\n",
            "Integral de f(x) =  x**2\n"
          ]
        }
      ]
    },
    {
      "cell_type": "code",
      "source": [
        "x,y = sp.symbols(\"x y\")\n",
        "expe = input(\"Digite f(x) = \")\n",
        "f = sp.simplify(eval(expe))\n",
        "print(\"Integral f(x,y) respecto de x\", str(sp.integrate(f,x)),str(\" + K\"))"
      ],
      "metadata": {
        "colab": {
          "base_uri": "https://localhost:8080/"
        },
        "id": "CSOoAfOeXpQr",
        "outputId": "281aac8b-3b4f-4cb2-f158-4e3560542f11"
      },
      "execution_count": 22,
      "outputs": [
        {
          "output_type": "stream",
          "name": "stdout",
          "text": [
            "Digite f(x) = 2*x**3\n",
            "Integral f(x,y) respecto de x x**4/2  +K\n"
          ]
        }
      ]
    }
  ]
}