{
  "nbformat": 4,
  "nbformat_minor": 0,
  "metadata": {
    "colab": {
      "provenance": [],
      "authorship_tag": "ABX9TyOw9eLRsATtBCjvCG/HYZfN",
      "include_colab_link": true
    },
    "kernelspec": {
      "name": "python3",
      "display_name": "Python 3"
    },
    "language_info": {
      "name": "python"
    }
  },
  "cells": [
    {
      "cell_type": "markdown",
      "metadata": {
        "id": "view-in-github",
        "colab_type": "text"
      },
      "source": [
        "<a href=\"https://colab.research.google.com/github/soyudea/Optimizacion/blob/main/OperadorRegistros_txt.ipynb\" target=\"_parent\"><img src=\"https://colab.research.google.com/assets/colab-badge.svg\" alt=\"Open In Colab\"/></a>"
      ]
    },
    {
      "cell_type": "code",
      "source": [
        "import os\n",
        "from google.colab import files\n",
        "\n",
        "\n",
        "class Empleado:\n",
        "    contador_empleados = 0  # Contador para asignar un identificador único a cada empleado\n",
        "\n",
        "    def __init__(self, nombres, apellidos, salario):\n",
        "        Empleado.contador_empleados += 1\n",
        "        self.id_empleado = Empleado.contador_empleados\n",
        "        self.nombres = nombres\n",
        "        self.apellidos = apellidos\n",
        "        self.salario = salario\n",
        "\n",
        "    def obtener_informacion(self):\n",
        "        formato = \"{}\\t{}\\t{}\\t{}\"\n",
        "        return formato.format(self.id_empleado, self.nombres, self.apellidos, self.salario)\n",
        "class OperarArchivo:\n",
        "  def __init__(self, registro):\n",
        "      self.nameFile=None\n",
        "      self.campos=\"\"\n",
        "\n",
        "  def crearRuta(self, carpeta_destino, namefile):\n",
        "          self.nameFile = namefile + \".txt\"\n",
        "          ruta_archivo = f\"{carpeta_destino}/{self.nameFile}\"\n",
        "          return ruta_archivo\n",
        "\n",
        "  def crearArchivo(self, numCampos):\n",
        "        # Pide al usuario que ingrese los nombres de los campos\n",
        "        if self.nameFile is None:\n",
        "            raise ValueError(\"Ruta del archivo no definida. Llama a crearRuta antes de crearArchivo.\")\n",
        "\n",
        "        for i in range(numCampos):\n",
        "            campo = input(f\"Digite el nombre campo {i}: \")\n",
        "            self.campos += campo + '\\t'\n",
        "\n",
        "        self.campos += '\\n'\n",
        "        # Escribe los nombres de los campos en el archivo\n",
        "        with open(self.nameFile, 'w') as archivo:\n",
        "            archivo.write(self.campos)\n",
        "  def agregarRegistro(self, registro):\n",
        "        with open(self.nameFile, 'a') as archivo: #Se agrega archivos al final\n",
        "             archivo.write(registro + '\\n')\n",
        "\n",
        "# Crear instancias de la clase Empleado\n",
        "empleado1 = Empleado(\"Omar Alberto\", \"Torres\", 256700)\n",
        "empleado2 = Empleado(\"Jessica\", \"Torres\", 89678)\n",
        "carpeta_destino = \"/content\"\n",
        "\n",
        "e1 = empleado1.obtener_informacion()\n",
        "e2 = empleado2.obtener_informacion()\n",
        "\n",
        "objFile = OperarArchivo(None)\n",
        "ruta = objFile.crearRuta(carpeta_destino, \"prueba\")\n",
        "ruta =None\n",
        "objFile.crearArchivo(4)\n",
        "objFile.agregarRegistro(str(e1))\n",
        "objFile.agregarRegistro(str(e2))\n",
        "# Mostrar el enlace para descargar el archivo manualmente\n",
        "print(\"Enlace para descargar el archivo:\", ruta)\n",
        "\n",
        "files.download(ruta)"
      ],
      "metadata": {
        "colab": {
          "base_uri": "https://localhost:8080/",
          "height": 367
        },
        "id": "RSP14X0KrBle",
        "outputId": "0dd4351f-75d2-4daa-8958-afa9ca4af87d"
      },
      "execution_count": null,
      "outputs": [
        {
          "output_type": "error",
          "ename": "ValueError",
          "evalue": "ignored",
          "traceback": [
            "\u001b[0;31m---------------------------------------------------------------------------\u001b[0m",
            "\u001b[0;31mValueError\u001b[0m                                Traceback (most recent call last)",
            "\u001b[0;32m<ipython-input-21-84ec71f05783>\u001b[0m in \u001b[0;36m<cell line: 56>\u001b[0;34m()\u001b[0m\n\u001b[1;32m     54\u001b[0m \u001b[0;31m#ruta = objFile.crearRuta(carpeta_destino, \"prueba\")\u001b[0m\u001b[0;34m\u001b[0m\u001b[0;34m\u001b[0m\u001b[0m\n\u001b[1;32m     55\u001b[0m \u001b[0mruta\u001b[0m \u001b[0;34m=\u001b[0m\u001b[0;32mNone\u001b[0m\u001b[0;34m\u001b[0m\u001b[0;34m\u001b[0m\u001b[0m\n\u001b[0;32m---> 56\u001b[0;31m \u001b[0mobjFile\u001b[0m\u001b[0;34m.\u001b[0m\u001b[0mcrearArchivo\u001b[0m\u001b[0;34m(\u001b[0m\u001b[0;36m4\u001b[0m\u001b[0;34m)\u001b[0m\u001b[0;34m\u001b[0m\u001b[0;34m\u001b[0m\u001b[0m\n\u001b[0m\u001b[1;32m     57\u001b[0m \u001b[0mobjFile\u001b[0m\u001b[0;34m.\u001b[0m\u001b[0magregarRegistro\u001b[0m\u001b[0;34m(\u001b[0m\u001b[0mstr\u001b[0m\u001b[0;34m(\u001b[0m\u001b[0me1\u001b[0m\u001b[0;34m)\u001b[0m\u001b[0;34m)\u001b[0m\u001b[0;34m\u001b[0m\u001b[0;34m\u001b[0m\u001b[0m\n\u001b[1;32m     58\u001b[0m \u001b[0mobjFile\u001b[0m\u001b[0;34m.\u001b[0m\u001b[0magregarRegistro\u001b[0m\u001b[0;34m(\u001b[0m\u001b[0mstr\u001b[0m\u001b[0;34m(\u001b[0m\u001b[0me2\u001b[0m\u001b[0;34m)\u001b[0m\u001b[0;34m)\u001b[0m\u001b[0;34m\u001b[0m\u001b[0;34m\u001b[0m\u001b[0m\n",
            "\u001b[0;32m<ipython-input-21-84ec71f05783>\u001b[0m in \u001b[0;36mcrearArchivo\u001b[0;34m(self, numCampos)\u001b[0m\n\u001b[1;32m     29\u001b[0m         \u001b[0;31m# Pide al usuario que ingrese los nombres de los campos\u001b[0m\u001b[0;34m\u001b[0m\u001b[0;34m\u001b[0m\u001b[0m\n\u001b[1;32m     30\u001b[0m         \u001b[0;32mif\u001b[0m \u001b[0mself\u001b[0m\u001b[0;34m.\u001b[0m\u001b[0mnameFile\u001b[0m \u001b[0;32mis\u001b[0m \u001b[0;32mNone\u001b[0m\u001b[0;34m:\u001b[0m\u001b[0;34m\u001b[0m\u001b[0;34m\u001b[0m\u001b[0m\n\u001b[0;32m---> 31\u001b[0;31m             \u001b[0;32mraise\u001b[0m \u001b[0mValueError\u001b[0m\u001b[0;34m(\u001b[0m\u001b[0;34m\"Ruta del archivo no definida. Llama a crearRuta antes de crearArchivo.\"\u001b[0m\u001b[0;34m)\u001b[0m\u001b[0;34m\u001b[0m\u001b[0;34m\u001b[0m\u001b[0m\n\u001b[0m\u001b[1;32m     32\u001b[0m \u001b[0;34m\u001b[0m\u001b[0m\n\u001b[1;32m     33\u001b[0m         \u001b[0;32mfor\u001b[0m \u001b[0mi\u001b[0m \u001b[0;32min\u001b[0m \u001b[0mrange\u001b[0m\u001b[0;34m(\u001b[0m\u001b[0mnumCampos\u001b[0m\u001b[0;34m)\u001b[0m\u001b[0;34m:\u001b[0m\u001b[0;34m\u001b[0m\u001b[0;34m\u001b[0m\u001b[0m\n",
            "\u001b[0;31mValueError\u001b[0m: Ruta del archivo no definida. Llama a crearRuta antes de crearArchivo."
          ]
        }
      ]
    },
    {
      "cell_type": "code",
      "source": [],
      "metadata": {
        "id": "t3hm6KhgQmB6"
      },
      "execution_count": null,
      "outputs": []
    }
  ]
}