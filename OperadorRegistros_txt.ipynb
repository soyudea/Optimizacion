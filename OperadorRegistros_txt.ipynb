{
  "nbformat": 4,
  "nbformat_minor": 0,
  "metadata": {
    "colab": {
      "provenance": [],
      "authorship_tag": "ABX9TyN45DPDglcZJ0FRxNbpUrrY",
      "include_colab_link": true
    },
    "kernelspec": {
      "name": "python3",
      "display_name": "Python 3"
    },
    "language_info": {
      "name": "python"
    }
  },
  "cells": [
    {
      "cell_type": "markdown",
      "metadata": {
        "id": "view-in-github",
        "colab_type": "text"
      },
      "source": [
        "<a href=\"https://colab.research.google.com/github/soyudea/Optimizacion/blob/main/OperadorRegistros_txt.ipynb\" target=\"_parent\"><img src=\"https://colab.research.google.com/assets/colab-badge.svg\" alt=\"Open In Colab\"/></a>"
      ]
    },
    {
      "cell_type": "code",
      "source": [
        "import os\n",
        "from google.colab import files\n"
      ],
      "metadata": {
        "id": "RSP14X0KrBle"
      },
      "execution_count": 12,
      "outputs": []
    },
    {
      "cell_type": "code",
      "source": [
        "carpeta_destino = \"\"\n",
        "nameFile = \"\"\n",
        "objFile = None\n",
        "ruta = \"\""
      ],
      "metadata": {
        "id": "naichLvK1omD"
      },
      "execution_count": 13,
      "outputs": []
    },
    {
      "cell_type": "code",
      "source": [
        "class Empleado:\n",
        "    contador_empleados = 0  # Contador para asignar un identificador único a cada empleado\n",
        "\n",
        "    def __init__(self, nombres, apellidos, salario):\n",
        "        Empleado.contador_empleados += 1\n",
        "        self.id_empleado = Empleado.contador_empleados\n",
        "        self.nombres = nombres\n",
        "        self.apellidos = apellidos\n",
        "        self.salario = salario\n",
        "\n",
        "    def obtener_informacion(self, numCampos):\n",
        "        formato = \"{}\"\n",
        "        for i in range(numCampos-1):\n",
        "            #formato = \"{}\\t{}\\t{}\\t{}\"\n",
        "            formato = formato + \"\\t{}\"\n",
        "        return formato.format(self.id_empleado, self.nombres, self.apellidos, self.salario)\n",
        "\n",
        "class OperarArchivo:\n",
        "  def __init__(self, registro):\n",
        "      self.nameFile=None\n",
        "      self.campos=\"\"  #Cadena vacía\n",
        "\n",
        "  def crearRuta(self, carpeta_destino, namefile):\n",
        "          self.nameFile = namefile + \".txt\"\n",
        "          ruta_archivo = f\"{carpeta_destino}/{self.nameFile}\"\n",
        "          return ruta_archivo\n",
        "\n",
        "  def crearArchivo(self, numCampos):\n",
        "        # Pide al usuario que ingrese los nombres de los campos\n",
        "        if self.nameFile is None:\n",
        "            raise ValueError(\"Ruta del archivo no definida. Llama a crearRuta antes de crearArchivo.\")\n",
        "\n",
        "        for i in range(numCampos):\n",
        "            campo = input(f\"Digite el nombre campo {i}: \")\n",
        "            self.campos += campo + '\\t'   #A la cadena de texto  se le añade nombre del campo definido por usuario\n",
        "\n",
        "        self.campos += '\\n'\n",
        "        # Escribe los nombres de los campos en el archivo\n",
        "        with open(self.nameFile, 'w') as archivo:\n",
        "            archivo.write(self.campos)\n",
        "  def agregarRegistro(self, registro):\n",
        "        with open(self.nameFile, 'a') as archivo: #Se agrega archivos al final\n",
        "             archivo.write(registro + '\\n')\n",
        "  def leerArchivo(self):\n",
        "        if self.nameFile is None:\n",
        "            raise ValueError(\"Ruta del archivo no definida. Llama a crearRuta antes de leerArchivo.\")\n",
        "        registros = []\n",
        "        with open(self.nameFile, 'r') as archivo:\n",
        "              lineas = archivo.readlines() #Leer el archivo por líneas\n",
        "\n",
        "              if len(lineas) > 1:  # Si hay más de una línea (ignorando la primera línea de nombres de campos)\n",
        "                for linea in lineas[1:]:\n",
        "                    registros.append(linea.strip())  # Agrega el registro a la lista\n",
        "\n",
        "        return registros\n",
        "  def leerPorColumnas(self):\n",
        "        if self.nameFile is None:\n",
        "            raise ValueError(\"Ruta del archivo no definida. Llama a crearRuta antes de leerPorColumnas.\")\n",
        "        columnas = []  # Almacenará las columnas\n",
        "        with open(self.nameFile, 'r') as archivo:\n",
        "            lineas = archivo.readlines()\n",
        "            columnas = [list() for _ in range(len(lineas[0].split('\\t')))] # Transponer las líneas (convertir filas en columnas)\n",
        "            for linea in lineas:\n",
        "                campos = linea.strip().split('\\t')\n",
        "                for idx, campo in enumerate(campos):  # Agregar cada campo a la columna correspondiente\n",
        "                    columnas[idx].append(campo)\n",
        "        return columnas"
      ],
      "metadata": {
        "id": "xS35EuK01ZbV"
      },
      "execution_count": 14,
      "outputs": []
    },
    {
      "cell_type": "code",
      "source": [
        "def File(numCampos):\n",
        "   carpeta_destino = \"/content\"\n",
        "   nameFile = input(\"Qué nombre le damos al archivo\")\n",
        "   objFile = OperarArchivo(None)\n",
        "   ruta = objFile.crearRuta(carpeta_destino, nameFile)\n",
        "   objFile.crearArchivo(numCampos)\n",
        "   return carpeta_destino,nameFile, objFile, ruta\n",
        "\n",
        "carpeta_destino, nameFile, objFile, ruta = File(4)"
      ],
      "metadata": {
        "colab": {
          "base_uri": "https://localhost:8080/"
        },
        "id": "BaCSe0ls02Ut",
        "outputId": "7d462bb0-4855-4cdc-e70c-100d177c5705"
      },
      "execution_count": 16,
      "outputs": [
        {
          "name": "stdout",
          "output_type": "stream",
          "text": [
            "Qué nombre le damos al archivoPersonas\n",
            "Digite el nombre campo 0: ID\n",
            "Digite el nombre campo 1: Nombres\n",
            "Digite el nombre campo 2: Apellidos\n",
            "Digite el nombre campo 3: Salario\n"
          ]
        }
      ]
    },
    {
      "cell_type": "code",
      "source": [
        "flag =True\n",
        "while flag == True:\n",
        "   nombres = input(\"Digite los nombres: \")\n",
        "   apellidos = input(\"Digite los apellidos\")\n",
        "   salario = input(\"Digite el salario $ \")\n",
        "   empleado = Empleado(nombres, apellidos, salario)\n",
        "   reg = empleado.obtener_informacion(4)\n",
        "   objFile.agregarRegistro(str(reg))\n",
        "   respuesta = input(\"Si quiere leer otro registro, escriba 'True'; de lo contrario, escriba cualquier otra cosa: \")\n",
        "   flag = respuesta.lower() == 'true'\n",
        "\n",
        "\n",
        "\n",
        "files.download(ruta)\n",
        "registros_leidos = objFile.leerArchivo()\n",
        "for registro in registros_leidos:\n",
        "    print(\"Registro leído: \", registro)\n"
      ],
      "metadata": {
        "colab": {
          "base_uri": "https://localhost:8080/",
          "height": 277
        },
        "id": "jDwx1O3wPJ2u",
        "outputId": "16eb3000-f5f5-4110-eab1-61370b4dc6f1"
      },
      "execution_count": 17,
      "outputs": [
        {
          "name": "stdout",
          "output_type": "stream",
          "text": [
            "Digite los nombres: Teresa\n",
            "Digite los apellidosPlata\n",
            "Digite el salario $ 356737\n",
            "Si quiere leer otro registro, escriba 'True'; de lo contrario, escriba cualquier otra cosa: True\n",
            "Digite los nombres: Pedro\n",
            "Digite los apellidosOrtiz\n",
            "Digite el salario $ 84847\n",
            "Si quiere leer otro registro, escriba 'True'; de lo contrario, escriba cualquier otra cosa: True\n",
            "Digite los nombres: Luis\n",
            "Digite los apellidosPerez\n",
            "Digite el salario $ 83838\n",
            "Si quiere leer otro registro, escriba 'True'; de lo contrario, escriba cualquier otra cosa: False\n"
          ]
        },
        {
          "output_type": "display_data",
          "data": {
            "text/plain": [
              "<IPython.core.display.Javascript object>"
            ],
            "application/javascript": [
              "\n",
              "    async function download(id, filename, size) {\n",
              "      if (!google.colab.kernel.accessAllowed) {\n",
              "        return;\n",
              "      }\n",
              "      const div = document.createElement('div');\n",
              "      const label = document.createElement('label');\n",
              "      label.textContent = `Downloading \"${filename}\": `;\n",
              "      div.appendChild(label);\n",
              "      const progress = document.createElement('progress');\n",
              "      progress.max = size;\n",
              "      div.appendChild(progress);\n",
              "      document.body.appendChild(div);\n",
              "\n",
              "      const buffers = [];\n",
              "      let downloaded = 0;\n",
              "\n",
              "      const channel = await google.colab.kernel.comms.open(id);\n",
              "      // Send a message to notify the kernel that we're ready.\n",
              "      channel.send({})\n",
              "\n",
              "      for await (const message of channel.messages) {\n",
              "        // Send a message to notify the kernel that we're ready.\n",
              "        channel.send({})\n",
              "        if (message.buffers) {\n",
              "          for (const buffer of message.buffers) {\n",
              "            buffers.push(buffer);\n",
              "            downloaded += buffer.byteLength;\n",
              "            progress.value = downloaded;\n",
              "          }\n",
              "        }\n",
              "      }\n",
              "      const blob = new Blob(buffers, {type: 'application/binary'});\n",
              "      const a = document.createElement('a');\n",
              "      a.href = window.URL.createObjectURL(blob);\n",
              "      a.download = filename;\n",
              "      div.appendChild(a);\n",
              "      a.click();\n",
              "      div.remove();\n",
              "    }\n",
              "  "
            ]
          },
          "metadata": {}
        },
        {
          "output_type": "display_data",
          "data": {
            "text/plain": [
              "<IPython.core.display.Javascript object>"
            ],
            "application/javascript": [
              "download(\"download_7d64832c-b2c9-4368-a185-28d3543ce94f\", \"Personas.txt\", 91)"
            ]
          },
          "metadata": {}
        },
        {
          "output_type": "stream",
          "name": "stdout",
          "text": [
            "Registro leído:  1\tTeresa\tPlata\t356737\n",
            "Registro leído:  2\tPedro\tOrtiz\t84847\n",
            "Registro leído:  3\tLuis\tPerez\t83838\n"
          ]
        }
      ]
    },
    {
      "cell_type": "code",
      "source": [
        "columnas_leidas = objFile.leerPorColumnas()\n",
        "for idx, columna in enumerate(columnas_leidas):\n",
        "    print(f\"Columna {idx + 1}: {columna}\")"
      ],
      "metadata": {
        "colab": {
          "base_uri": "https://localhost:8080/"
        },
        "id": "D43o7_Ws1G-P",
        "outputId": "3aba43ec-e8e6-4a8e-fefa-052a50e9e6bf"
      },
      "execution_count": 19,
      "outputs": [
        {
          "output_type": "stream",
          "name": "stdout",
          "text": [
            "Columna 1: ['ID', '1', '2', '3']\n",
            "Columna 2: ['Nombres', 'Teresa', 'Pedro', 'Luis']\n",
            "Columna 3: ['Apellidos', 'Plata', 'Ortiz', 'Perez']\n",
            "Columna 4: ['Salario', '356737', '84847', '83838']\n",
            "Columna 5: []\n"
          ]
        }
      ]
    }
  ]
}