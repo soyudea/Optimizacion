{
  "nbformat": 4,
  "nbformat_minor": 0,
  "metadata": {
    "colab": {
      "provenance": [],
      "gpuType": "T4",
      "authorship_tag": "ABX9TyPEgu2hyCNQIoo1AJPcx6VU",
      "include_colab_link": true
    },
    "kernelspec": {
      "name": "python3",
      "display_name": "Python 3"
    },
    "language_info": {
      "name": "python"
    },
    "accelerator": "GPU"
  },
  "cells": [
    {
      "cell_type": "markdown",
      "metadata": {
        "id": "view-in-github",
        "colab_type": "text"
      },
      "source": [
        "<a href=\"https://colab.research.google.com/github/soyudea/Optimizacion/blob/main/PatronesDeDise%C3%B1o.ipynb\" target=\"_parent\"><img src=\"https://colab.research.google.com/assets/colab-badge.svg\" alt=\"Open In Colab\"/></a>"
      ]
    },
    {
      "cell_type": "code",
      "execution_count": 2,
      "metadata": {
        "id": "du3PJSF6lPGI"
      },
      "outputs": [],
      "source": [
        "import tensorflow as tf\n",
        "from abc import ABC, abstractmethod"
      ]
    },
    {
      "cell_type": "code",
      "source": [
        "print(\"Versión de TensorFlow:\", tf.__version__)\n",
        "\n",
        "# Verificar la GPU\n",
        "if tf.test.gpu_device_name():\n",
        "    print(\"GPU encontrada:\", tf.test.gpu_device_name())\n",
        "else:\n",
        "    print(\"No se encontró GPU. Asegúrate de que has configurado el entorno de ejecución para usar GPU.\")"
      ],
      "metadata": {
        "id": "9XfgxKtUFUIg"
      },
      "execution_count": null,
      "outputs": []
    },
    {
      "cell_type": "markdown",
      "source": [
        "Method factory"
      ],
      "metadata": {
        "id": "anTH_3vSRWg2"
      }
    },
    {
      "cell_type": "code",
      "source": [
        "\n",
        "# Producto: Interfaz común para operaciones matemáticas\n",
        "class Operation(ABC):\n",
        "    @abstractmethod\n",
        "    def calculate(self, operand1, operand2):\n",
        "        pass\n",
        "\n",
        "# Productos Concretos: Implementaciones específicas de operaciones\n",
        "class Addition(Operation):\n",
        "    def calculate(self, operand1, operand2):\n",
        "        return operand1 + operand2\n",
        "\n",
        "class Subtraction(Operation):\n",
        "    def calculate(self, operand1, operand2):\n",
        "        return operand1 - operand2\n",
        "\n",
        "# Creador: Interfaz para el Factory Method\n",
        "class MathOperationCreator(ABC):\n",
        "    @abstractmethod\n",
        "    def create_operation(self) -> Operation:\n",
        "        pass\n",
        "\n",
        "    def perform_operation(self, operand1, operand2):\n",
        "        operation = self.create_operation()\n",
        "        result = operation.calculate(operand1, operand2)\n",
        "        return f\"Result of {operation.__class__.__name__}({operand1}, {operand2}): {result}\"\n",
        "\n",
        "# Creadores Concretos: Implementaciones específicas del Factory Method\n",
        "class AdditionCreator(MathOperationCreator):\n",
        "    def create_operation(self) -> Operation:\n",
        "        return Addition()\n",
        "\n",
        "class SubtractionCreator(MathOperationCreator):\n",
        "    def create_operation(self) -> Operation:\n",
        "        return Subtraction()\n",
        "\n",
        "# Uso del patrón Factory Method\n",
        "def main():\n",
        "    operand1, operand2 = 10, 5\n",
        "\n",
        "    # Utilizando la suma\n",
        "    addition_creator = AdditionCreator()\n",
        "    result_addition = addition_creator.perform_operation(operand1, operand2)\n",
        "    print(result_addition)\n",
        "\n",
        "    # Utilizando la resta\n",
        "    subtraction_creator = SubtractionCreator()\n",
        "    result_subtraction = subtraction_creator.perform_operation(operand1, operand2)\n",
        "    print(result_subtraction)\n",
        "\n",
        "if __name__ == \"__main__\":\n",
        "    main()"
      ],
      "metadata": {
        "colab": {
          "base_uri": "https://localhost:8080/"
        },
        "id": "FsZWopi5RSN4",
        "outputId": "4eca9de2-ae94-46d7-9acd-2df8092e9d67"
      },
      "execution_count": 3,
      "outputs": [
        {
          "output_type": "stream",
          "name": "stdout",
          "text": [
            "Result of Addition(10, 5): 15\n",
            "Result of Subtraction(10, 5): 5\n"
          ]
        }
      ]
    },
    {
      "cell_type": "markdown",
      "source": [
        "relacion de composicion entre clases"
      ],
      "metadata": {
        "id": "i9nYNVWHLMhi"
      }
    },
    {
      "cell_type": "code",
      "source": [
        "class Employee:\n",
        "    def __init__(self, name, position):\n",
        "        self.name = name\n",
        "        self.position = position\n",
        "\n",
        "    def get_info(self):\n",
        "        return f\"{self.name} - {self.position}\"\n",
        "\n",
        "class Department:\n",
        "    def __init__(self, name):\n",
        "        self.name = name\n",
        "        self.employees = []  # Lista para almacenar empleados\n",
        "\n",
        "    def add_employee(self, employee):\n",
        "        self.employees.append(employee)\n",
        "\n",
        "    def get_department_info(self):\n",
        "        department_info = f\"Department: {self.name}\\nEmployees:\\n\"\n",
        "        for employee in self.employees:\n",
        "            department_info += f\"- {employee.get_info()}\\n\"\n",
        "        return department_info\n",
        "\n",
        "# Crear empleados\n",
        "employee1 = Employee(\"Alice\", \"Software Engineer\")\n",
        "employee2 = Employee(\"Bob\", \"Data Scientist\")\n",
        "\n",
        "# Crear un departamento y agregar empleados\n",
        "it_department = Department(\"IT Department\")\n",
        "it_department.add_employee(employee1)\n",
        "it_department.add_employee(employee2)\n",
        "\n",
        "# Obtener información del departamento con los empleados\n",
        "print(it_department.get_department_info())"
      ],
      "metadata": {
        "colab": {
          "base_uri": "https://localhost:8080/"
        },
        "id": "j9lYFnOJLJyU",
        "outputId": "2d331c98-f7c2-434b-b810-8a0cf11741c5"
      },
      "execution_count": 1,
      "outputs": [
        {
          "output_type": "stream",
          "name": "stdout",
          "text": [
            "Department: IT Department\n",
            "Employees:\n",
            "- Alice - Software Engineer\n",
            "- Bob - Data Scientist\n",
            "\n"
          ]
        }
      ]
    },
    {
      "cell_type": "code",
      "source": [
        "# Definición de funciones\n",
        "def f(x):\n",
        "    return 2 * x\n",
        "\n",
        "def g(x):\n",
        "    return x + 1\n",
        "\n",
        "# Composición de funciones (f ∘ g)\n",
        "def compose(f, g):\n",
        "    return lambda x: f(g(x))\n",
        "\n",
        "# Crear la función compuesta (f ∘ g)\n",
        "f_composed_with_g = compose(f, g)\n",
        "\n",
        "# Evaluar la función compuesta en un valor específico (por ejemplo, x = 3)\n",
        "result = f_composed_with_g(3)\n",
        "\n",
        "# Imprimir el resultado\n",
        "print(result)"
      ],
      "metadata": {
        "id": "Q9SosGp4MZxi"
      },
      "execution_count": null,
      "outputs": []
    },
    {
      "cell_type": "code",
      "source": [
        "class Multiplicador:\n",
        "    def __init__(self, factor):\n",
        "        self.factor = factor\n",
        "\n",
        "    def multiplicar(self, x):\n",
        "        return x * self.factor\n",
        "\n",
        "class Sumador:\n",
        "    def __init__(self, constante):\n",
        "        self.constante = constante\n",
        "\n",
        "    def sumar(self, x):\n",
        "        return x + self.constante\n",
        "\n",
        "class ComposicionProcesos:\n",
        "    def __init__(self, multiplicador, sumador):\n",
        "        self.multiplicador = multiplicador\n",
        "        self.sumador = sumador\n",
        "\n",
        "    def procesar(self, x):\n",
        "        resultado_multiplicacion = self.multiplicador.multiplicar(x)\n",
        "        resultado_final = self.sumador.sumar(resultado_multiplicacion)\n",
        "        return resultado_final\n",
        "\n",
        "# Crear instancias de las clases\n",
        "multiplicador = Multiplicador(2)\n",
        "sumador = Sumador(3)\n",
        "\n",
        "# Crear instancia de la composición de procesos\n",
        "composicion = ComposicionProcesos(multiplicador, sumador)\n",
        "\n",
        "# Aplicar la composición a un valor específico (por ejemplo, x = 4)\n",
        "resultado_final = composicion.procesar(4)\n",
        "\n",
        "# Imprimir el resultado\n",
        "print(resultado_final)"
      ],
      "metadata": {
        "colab": {
          "base_uri": "https://localhost:8080/"
        },
        "id": "cVg_0fBIPCbE",
        "outputId": "5ed8d306-60fa-4515-a66d-bb8e48f95ca0"
      },
      "execution_count": 2,
      "outputs": [
        {
          "output_type": "stream",
          "name": "stdout",
          "text": [
            "11\n"
          ]
        }
      ]
    },
    {
      "cell_type": "code",
      "source": [
        "class Multiplicador:\n",
        "    def __init__(self, factor):  #2\n",
        "        self.factor = factor\n",
        "\n",
        "    def multiplicar(self, x):\n",
        "        return x * self.factor   #Retorna 2x\n",
        "\n",
        "class Sumador:\n",
        "    def __init__(self, constante):   #Recibe 3\n",
        "        self.constante = constante\n",
        "\n",
        "    def sumar(self, x):\n",
        "        return x + self.constante   #Retorna x+3\n",
        "\n",
        "class ComposicionProcesos:\n",
        "    def __init__(self, factor, constante):\n",
        "        self.multiplicador = Multiplicador(factor)   #inicializa factor con 2\n",
        "        self.sumador = Sumador(constante)            #inicializa constante con 3\n",
        "\n",
        "    def procesar(self, x):    #Recibe X = 4\n",
        "        resultado_multiplicacion = self.multiplicador.multiplicar(x)   #Calculo 2*X\n",
        "        resultado_final = self.sumador.sumar(resultado_multiplicacion)   #calculo de 2*(x+3)\n",
        "        return resultado_final\n",
        "\n",
        "# Crear instancia de la composición de procesos con instancias creadas dentro\n",
        "composicion = ComposicionProcesos(factor=2, constante=3)\n",
        "\n",
        "# Aplicar la composición a un valor específico (por ejemplo, x = 4)\n",
        "resultado_final = composicion.procesar(4)\n",
        "\n",
        "# Imprimir el resultado\n",
        "print(resultado_final)"
      ],
      "metadata": {
        "colab": {
          "base_uri": "https://localhost:8080/"
        },
        "id": "u3wnDMOdQbdB",
        "outputId": "7a0527b0-68d1-47f2-c5e5-d549931ef2c0"
      },
      "execution_count": 3,
      "outputs": [
        {
          "output_type": "stream",
          "name": "stdout",
          "text": [
            "11\n"
          ]
        }
      ]
    },
    {
      "cell_type": "markdown",
      "source": [
        "Relacion de agregacion"
      ],
      "metadata": {
        "id": "Yff5AzM_XbqE"
      }
    },
    {
      "cell_type": "code",
      "source": [
        "class Empleado:\n",
        "    def __init__(self, nombre, cargo):\n",
        "        self.nombre = nombre\n",
        "        self.cargo = cargo\n",
        "\n",
        "    def __str__(self):\n",
        "        return f\"{self.nombre} - {self.cargo}\"\n",
        "\n",
        "class Empresa:\n",
        "    def __init__(self, nombre):\n",
        "        self.nombre = nombre\n",
        "        self.empleados = []  # Lista para almacenar empleados\n",
        "\n",
        "    def contratar_empleado(self, empleado):\n",
        "        self.empleados.append(empleado)\n",
        "\n",
        "    def obtener_empleados(self):\n",
        "        return self.empleados\n",
        "\n",
        "# Crear instancias de empleados\n",
        "empleado1 = Empleado(\"Alice\", \"Desarrollador\")\n",
        "empleado2 = Empleado(\"Bob\", \"Diseñador\")\n",
        "\n",
        "# Crear instancias de empresas y contratar empleados\n",
        "empresa1 = Empresa(\"Empresa A\")\n",
        "empresa1.contratar_empleado(empleado1)\n",
        "\n",
        "empresa2 = Empresa(\"Empresa B\")\n",
        "empresa2.contratar_empleado(empleado2)\n",
        "\n",
        "# Obtener y mostrar empleados de cada empresa\n",
        "empleados_empresa1 = empresa1.obtener_empleados()\n",
        "empleados_empresa2 = empresa2.obtener_empleados()\n",
        "\n",
        "print(\"Empleados en Empresa A:\")\n",
        "for empleado in empleados_empresa1:\n",
        "    print(f\"- {empleado}\")\n",
        "\n",
        "print(\"\\nEmpleados en Empresa B:\")\n",
        "for empleado in empleados_empresa2:\n",
        "    print(f\"- {empleado}\")"
      ],
      "metadata": {
        "colab": {
          "base_uri": "https://localhost:8080/"
        },
        "id": "79yMLS3rXhkw",
        "outputId": "85727f6c-b29b-464c-d443-198c3c593d72"
      },
      "execution_count": 4,
      "outputs": [
        {
          "output_type": "stream",
          "name": "stdout",
          "text": [
            "Empleados en Empresa A:\n",
            "- Alice - Desarrollador\n",
            "\n",
            "Empleados en Empresa B:\n",
            "- Bob - Diseñador\n"
          ]
        }
      ]
    }
  ]
}