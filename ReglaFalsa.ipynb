{
  "nbformat": 4,
  "nbformat_minor": 0,
  "metadata": {
    "colab": {
      "provenance": [],
      "authorship_tag": "ABX9TyPTjFJRjkDOlMH31Zpj1EQB",
      "include_colab_link": true
    },
    "kernelspec": {
      "name": "python3",
      "display_name": "Python 3"
    },
    "language_info": {
      "name": "python"
    }
  },
  "cells": [
    {
      "cell_type": "markdown",
      "metadata": {
        "id": "view-in-github",
        "colab_type": "text"
      },
      "source": [
        "<a href=\"https://colab.research.google.com/github/soyudea/Optimizacion/blob/main/ReglaFalsa.ipynb\" target=\"_parent\"><img src=\"https://colab.research.google.com/assets/colab-badge.svg\" alt=\"Open In Colab\"/></a>"
      ]
    },
    {
      "cell_type": "markdown",
      "source": [
        "Metodo de la regla falsa\n",
        "Omar Torres\n",
        "![falpos.gif](data:image/gif;base64,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)"
      ],
      "metadata": {
        "id": "6awCeiDwGHaH"
      }
    },
    {
      "cell_type": "code",
      "source": [
        "import math\n",
        "import matplotlib.pyplot as plt\n",
        "import numpy as np"
      ],
      "metadata": {
        "id": "u5SOYNZvG3-Q"
      },
      "execution_count": 1,
      "outputs": []
    },
    {
      "cell_type": "markdown",
      "source": [
        "**Entrada de datos**"
      ],
      "metadata": {
        "id": "A9nmpxhGHllP"
      }
    },
    {
      "cell_type": "code",
      "source": [
        "err = float(input(\"Digite el error aceptable \"))\n",
        "err_ref = float(input(\"Digite un error de refe rencia cual quieraq ejemplo err >=10 \"))\n",
        "xl  = float(input(\"Ingrese la frontera inferior del intervalo \"))\n",
        "xu  = float(input(\"Ingrese la frontera superior del intervalo \"))"
      ],
      "metadata": {
        "id": "qm90P9EvHqAm",
        "outputId": "ba3e9179-33e5-4913-d02f-5e565c812f1d",
        "colab": {
          "base_uri": "https://localhost:8080/"
        }
      },
      "execution_count": 2,
      "outputs": [
        {
          "name": "stdout",
          "output_type": "stream",
          "text": [
            "Digite el error aceptable 0.001\n",
            "Digite un error de refe rencia cual quieraq ejemplo err >=10 10\n",
            "Ingrese la frontera inferior del intervalo 0.6\n",
            "Ingrese la frontera superior del intervalo 1\n"
          ]
        }
      ]
    },
    {
      "cell_type": "markdown",
      "source": [
        "Grafica de f(x) = e^x -x\n",
        "[0,1]"
      ],
      "metadata": {
        "id": "r9f0sNg4G_rI"
      }
    },
    {
      "cell_type": "code",
      "source": [
        "def graf_function():\n",
        "  X = list(np.arange(xl,xu, err))\n",
        "  Y=[((x**4)+ 3*(x**3) - 2) for x in X]\n",
        "\n",
        "  plt.title(\"Funcion\")\n",
        "  plt.xlabel(\"Y = x^4 + x^3 - 2\")\n",
        "  plt.ylabel(\"Y\")\n",
        "  plt.plot(X,Y, \"r--\")\n",
        "  plt.axvline(x=0.75, ymin=0.0, ymax=30)\n",
        "  plt.grid()\n",
        "  plt.show()\n",
        "\n",
        "graf_function()"
      ],
      "metadata": {
        "colab": {
          "base_uri": "https://localhost:8080/",
          "height": 472
        },
        "id": "xL90vTKhHzGE",
        "outputId": "23f084a7-126c-44db-bf54-dd8d7f7b92b4"
      },
      "execution_count": 4,
      "outputs": [
        {
          "output_type": "display_data",
          "data": {
            "text/plain": [
              "<Figure size 640x480 with 1 Axes>"
            ],
            "image/png": "[encoded data removed]"
          },
          "metadata": {}
        }
      ]
    },
    {
      "cell_type": "markdown",
      "source": [
        "**Clase ReglaFalsa**"
      ],
      "metadata": {
        "id": "Zd-WD-vtLMOX"
      }
    },
    {
      "cell_type": "code",
      "source": [
        "from re import S\n",
        "class ReglaFalsa:\n",
        "  def __init__(self, xl, xu, error, err_ref):\n",
        "     self.__xl = xl\n",
        "     self.__xu = xu\n",
        "     self.__error=error\n",
        "     self.__error_act=0\n",
        "     self.__err_ref = err_ref\n",
        "     self.__xr_i =0\n",
        "     self.__fxl = 0\n",
        "     self.__fxu = 1\n",
        "     self.__fr =2\n",
        "     self.__fr_old =100\n",
        "     self.__xr_old = 0\n",
        "\n",
        "  def __printf(self, i):                              #Imprime los valores parciales de los f(x) y el error\n",
        "      print(\"______________________________________________________________________________________________________\")\n",
        "      print(\"i = \", i)\n",
        "      print(\"xl = \",self.__xl, \"fxl = \",self.__fxl)\n",
        "      print(\"xlu = \",self.__xu, \"fxu = \",self.__fxu)\n",
        "      print(\"xl = \",self.__xr_old, \"fxl = \",self.__fr_old)\n",
        "\n",
        "      print(\"error = \",self.__error_act)\n",
        "\n",
        "  def __f(self, x):\n",
        "    fx = ((x**4)+ 3*(x**3) - 2)\n",
        "    return fx\n",
        "\n",
        "  def __cal_xr(self):\n",
        "    x_num = self.__fxu*(self.__xl - self.__xu)\n",
        "    x_denom = self.__fxl - self.__fxu\n",
        "    xr = self.__xu - (x_num)/x_denom\n",
        "    return xr\n",
        "\n",
        "  def __errorAptual(self):\n",
        "    error=0\n",
        "    if self.__xr_old != 0:\n",
        "      error = (  self.__xr_old - self.__xr_i)/self.__xr_old\n",
        "    self.__err_actual = np.abs(error)\n",
        "    return self.__err_actual\n",
        "\n",
        "  def cal_raiz(self):\n",
        "    flag = True\n",
        "    err = self.__err_ref    #Se inicializa un error para entrar al while\n",
        "    xr=0\n",
        "    i=0\n",
        "    while err > self.__error:\n",
        "        self.__printf(i)\n",
        "        i=+1\n",
        "        fxl = self.__f(self.__xl)\n",
        "        fxu = self.__f(self.__xu)\n",
        "        self.__fxl = fxl\n",
        "        self.__fxu = fxu\n",
        "        self.__xr_i  = self.__xr_old\n",
        "        xr = self.__cal_xr()\n",
        "        self.__fr_old = self.__fr\n",
        "        fr = self.__f(xr)\n",
        "        self.__fr = fr\n",
        "        self.__xr_old = xr\n",
        "        err =  self.__errorAptual()\n",
        "        self.__err_actual =err\n",
        "        if (fxl)*(fxu) < 0:       #Convergencia\n",
        "            if fxl*fr <0:    #[xl, xr] contiene la raiz\n",
        "                self._xl = xl\n",
        "                self.__xu = xr\n",
        "            else:\n",
        "                if fxl*fr:   #[xr, xu] contiene la raiz\n",
        "                  self.__xl = xr\n",
        "                  self.__xu = self.__xu\n",
        "        else:\n",
        "          flag = False\n",
        "\n",
        "    return self.__xr_old"
      ],
      "metadata": {
        "id": "71JAB4XbLSnY"
      },
      "execution_count": 19,
      "outputs": []
    },
    {
      "cell_type": "markdown",
      "source": [
        "**Funcion main()**"
      ],
      "metadata": {
        "id": "S61LujaLYlcK"
      }
    },
    {
      "cell_type": "code",
      "source": [
        "def main():\n",
        "  obj= ReglaFalsa(xl,xu,err, err_ref)\n",
        "  print(\"Raiz = \",obj.cal_raiz())\n",
        "if __name__=='__main__':\n",
        "   main()"
      ],
      "metadata": {
        "id": "eW9n70GaYqJE",
        "outputId": "901ae7c3-b1f9-4c08-c3c0-dcc66863a296",
        "colab": {
          "base_uri": "https://localhost:8080/"
        }
      },
      "execution_count": 22,
      "outputs": [
        {
          "output_type": "stream",
          "name": "stdout",
          "text": [
            "______________________________________________________________________________________________________\n",
            "i =  0\n",
            "xl =  0.6 fxl =  0\n",
            "xlu =  1.0 fxu =  1\n",
            "xl =  0 fxl =  100\n",
            "error =  0\n",
            "______________________________________________________________________________________________________\n",
            "i =  1\n",
            "xl =  0.7517378351539226 fxl =  -1.2224000000000002\n",
            "xlu =  1.0 fxu =  2.0\n",
            "xl =  0.7517378351539226 fxl =  2\n",
            "error =  0\n",
            "______________________________________________________________________________________________________\n",
            "i =  1\n",
            "xl =  0.7936486036691343 fxl =  -0.40620775299248835\n",
            "xlu =  1.0 fxu =  2.0\n",
            "xl =  0.7936486036691343 fxl =  -0.40620775299248835\n",
            "error =  0\n",
            "______________________________________________________________________________________________________\n",
            "i =  1\n",
            "xl =  0.8038063282826354 fxl =  -0.10354793327008327\n",
            "xlu =  1.0 fxu =  2.0\n",
            "xl =  0.8038063282826354 fxl =  -0.10354793327008327\n",
            "error =  0\n",
            "______________________________________________________________________________________________________\n",
            "i =  1\n",
            "xl =  0.8061825206597701 fxl =  -0.024519897640022048\n",
            "xlu =  1.0 fxu =  2.0\n",
            "xl =  0.8061825206597701 fxl =  -0.024519897640022048\n",
            "error =  0\n",
            "Raiz =  0.8067336605927593\n"
          ]
        }
      ]
    }
  ]
}