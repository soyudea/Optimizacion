{
  "nbformat": 4,
  "nbformat_minor": 0,
  "metadata": {
    "colab": {
      "provenance": [],
      "authorship_tag": "ABX9TyMompYPQx7pfoZVK90wHiMf",
      "include_colab_link": true
    },
    "kernelspec": {
      "name": "python3",
      "display_name": "Python 3"
    },
    "language_info": {
      "name": "python"
    }
  },
  "cells": [
    {
      "cell_type": "markdown",
      "metadata": {
        "id": "view-in-github",
        "colab_type": "text"
      },
      "source": [
        "<a href=\"https://colab.research.google.com/github/soyudea/Optimizacion/blob/main/ReglaFalsa.ipynb\" target=\"_parent\"><img src=\"https://colab.research.google.com/assets/colab-badge.svg\" alt=\"Open In Colab\"/></a>"
      ]
    },
    {
      "cell_type": "markdown",
      "source": [
        "Metodo de la regla falsa\n",
        "Omar Torres\n",
        "![falpos.gif](data:image/gif;base64,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)"
      ],
      "metadata": {
        "id": "6awCeiDwGHaH"
      }
    },
    {
      "cell_type": "code",
      "source": [
        "import math\n",
        "import matplotlib.pyplot as plt\n",
        "import numpy as np"
      ],
      "metadata": {
        "id": "u5SOYNZvG3-Q"
      },
      "execution_count": 1,
      "outputs": []
    },
    {
      "cell_type": "markdown",
      "source": [
        "**Entrada de datos**"
      ],
      "metadata": {
        "id": "A9nmpxhGHllP"
      }
    },
    {
      "cell_type": "code",
      "source": [
        "err = float(input(\"Digite el error aceptable \"))\n",
        "err_ref = float(input(\"Digite un error de referencia cual quieraq ejemplo err \"))\n",
        "xl  = float(input(\"Ingrese la frontera inferior del intervalo \"))\n",
        "xu  = float(input(\"Ingrese la frontera superior del intervalo \"))"
      ],
      "metadata": {
        "id": "qm90P9EvHqAm",
        "outputId": "331a235a-918e-419c-8e9d-01ed899c4028",
        "colab": {
          "base_uri": "https://localhost:8080/"
        }
      },
      "execution_count": 19,
      "outputs": [
        {
          "name": "stdout",
          "output_type": "stream",
          "text": [
            "Digite el error aceptable 0.001\n",
            "Digite un error de referencia cual quieraq ejemplo err 1\n",
            "Ingrese la frontera inferior del intervalo 0\n",
            "Ingrese la frontera superior del intervalo 2\n"
          ]
        }
      ]
    },
    {
      "cell_type": "markdown",
      "source": [
        "Grafica de f(x) = x^4 + x3 -2\n",
        "[0,1]"
      ],
      "metadata": {
        "id": "r9f0sNg4G_rI"
      }
    },
    {
      "cell_type": "code",
      "source": [
        "def graf_function():\n",
        "  X = list(np.arange(xl,xu, err))\n",
        "  Y=[((x**4)+ 3*(x**3) - 2) for x in X]\n",
        "\n",
        "  plt.title(\"Funcion\")\n",
        "  plt.xlabel(\"Y = x^4 + x^3 - 2\")\n",
        "  plt.ylabel(\"Y\")\n",
        "  plt.plot(X,Y, \"r--\")\n",
        "  plt.axvline(x=0.7, ymin=0.0, ymax=30)\n",
        "  plt.grid()\n",
        "  plt.show()\n",
        "\n",
        "graf_function()"
      ],
      "metadata": {
        "colab": {
          "base_uri": "https://localhost:8080/",
          "height": 472
        },
        "id": "xL90vTKhHzGE",
        "outputId": "06f4e47b-c6a5-414e-870f-25f0aeb58dc7"
      },
      "execution_count": 23,
      "outputs": [
        {
          "output_type": "display_data",
          "data": {
            "text/plain": [
              "<Figure size 640x480 with 1 Axes>"
            ],
            "image/png": "[encoded data removed]"
          },
          "metadata": {}
        }
      ]
    },
    {
      "cell_type": "markdown",
      "source": [
        "**Clase ReglaFalsa**"
      ],
      "metadata": {
        "id": "Zd-WD-vtLMOX"
      }
    },
    {
      "cell_type": "code",
      "source": [
        "from re import S\n",
        "class ReglaFalsa:\n",
        "  def __init__(self, xl, xu, error):\n",
        "     self.__xl = xl\n",
        "     self.__xu = xu\n",
        "     self.__error=error\n",
        "     self.__error_act=0\n",
        "     self.__err_ref = 1\n",
        "     self.__xr_i =0\n",
        "     self.__fxl = 0\n",
        "     self.__fxu = 1\n",
        "     self.__fr =2\n",
        "     self.__fr_old =100\n",
        "     self.__xr_old = 0\n",
        "     self.__i =0\n",
        "     self.__lista_error=[]\n",
        "\n",
        "  def __printf(self):                              #Imprime los valores parciales de los f(x) y el error\n",
        "      print(\"______________________________________________________________________________________________________\")\n",
        "      print(\"i = \", self.__i)\n",
        "      print(\"xl = \",self.__xl, \"fxl = \",self.__fxl)\n",
        "      print(\"xlu = \",self.__xu, \"fxu = \",self.__fxu)\n",
        "      print(\"xl = \",self.__xr_old, \"fxl = \",self.__fr_old)\n",
        "      print(\"error = \",self.__error_act)\n",
        "\n",
        "  def __f(self, x):\n",
        "    fx = ((x**4)+ 3*(x**3) - 2)\n",
        "    return fx\n",
        "\n",
        "  def __cal_xr(self):\n",
        "    x_num = self.__fxu*(self.__xl - self.__xu)\n",
        "    x_denom = self.__fxl - self.__fxu\n",
        "    xr = self.__xu - (x_num)/x_denom\n",
        "    return xr\n",
        "\n",
        "  def __errorAptual(self):\n",
        "    error=0\n",
        "    if self.__xr_old != 0:\n",
        "      error = (  self.__xr_old - self.__xr_i)/self.__xr_old\n",
        "    self.__err_actual = np.abs(error)\n",
        "    return self.__err_actual\n",
        "\n",
        "  def get_lista_errores(self):\n",
        "    return self.__lista_error\n",
        "\n",
        "  def cal_raiz(self):\n",
        "    flag = True\n",
        "    err = self.__err_ref    #Se inicializa un error para entrar al while\n",
        "    xr=0\n",
        "    i=0\n",
        "    while err > self.__error:\n",
        "        self.__printf()\n",
        "        self.__i = self.__i + 1\n",
        "        fxl = self.__f(self.__xl)\n",
        "        fxu = self.__f(self.__xu)\n",
        "        self.__fxl = fxl\n",
        "        self.__fxu = fxu\n",
        "        self.__xr_i  = self.__xr_old\n",
        "        xr = self.__cal_xr()\n",
        "        self.__fr_old = self.__fr\n",
        "        fr = self.__f(xr)\n",
        "        self.__fr = fr\n",
        "        self.__xr_old = xr\n",
        "        err =  self.__errorAptual()\n",
        "        self.__lista_error.append(err)\n",
        "        self.__error_act =err\n",
        "        if (fxl)*(fxu) < 0:       #Convergencia\n",
        "            if fxl*fr <0:    #[xl, xr] contiene la raiz\n",
        "                self._xl = xl\n",
        "                self.__xu = xr\n",
        "            else:\n",
        "                if fxl*fr:   #[xr, xu] contiene la raiz\n",
        "                  self.__xl = xr\n",
        "                  self.__xu = self.__xu\n",
        "        else:\n",
        "          flag = False\n",
        "\n",
        "    return self.__xr_old"
      ],
      "metadata": {
        "id": "71JAB4XbLSnY"
      },
      "execution_count": 31,
      "outputs": []
    },
    {
      "cell_type": "markdown",
      "source": [
        "**Funcion main()**"
      ],
      "metadata": {
        "id": "S61LujaLYlcK"
      }
    },
    {
      "cell_type": "code",
      "source": [
        "errores =[]\n",
        "obj= ReglaFalsa(xl,xu,err)\n",
        "def main():\n",
        "  errores = obj.get_lista_errores()\n",
        "  print(\"Raiz = \",obj.cal_raiz())\n",
        "if __name__=='__main__':\n",
        "   main()\n",
        "errores = obj.get_lista_errores()"
      ],
      "metadata": {
        "id": "eW9n70GaYqJE",
        "outputId": "85d49719-0d73-4bbb-99b9-282339642362",
        "colab": {
          "base_uri": "https://localhost:8080/"
        }
      },
      "execution_count": 32,
      "outputs": [
        {
          "output_type": "stream",
          "name": "stdout",
          "text": [
            "______________________________________________________________________________________________________\n",
            "i =  0\n",
            "xl =  0.0 fxl =  0\n",
            "xlu =  2.0 fxu =  1\n",
            "xl =  0 fxl =  100\n",
            "error =  0\n",
            "______________________________________________________________________________________________________\n",
            "i =  1\n",
            "xl =  0.10000000000000009 fxl =  -2.0\n",
            "xlu =  2.0 fxu =  38.0\n",
            "xl =  0.10000000000000009 fxl =  2\n",
            "error =  1.0\n",
            "______________________________________________________________________________________________________\n",
            "i =  2\n",
            "xl =  0.19486010165787815 fxl =  -1.9969\n",
            "xlu =  2.0 fxu =  38.0\n",
            "xl =  0.19486010165787815 fxl =  -1.9969\n",
            "error =  0.4868113115553375\n",
            "______________________________________________________________________________________________________\n",
            "i =  3\n",
            "xl =  0.2841030641846647 fxl =  -1.9763614615970484\n",
            "xlu =  2.0 fxu =  38.0\n",
            "xl =  0.2841030641846647 fxl =  -1.9763614615970484\n",
            "error =  0.31412178810144525\n",
            "______________________________________________________________________________________________________\n",
            "i =  4\n",
            "xl =  0.36682310463846735 fxl =  -1.9246914073864976\n",
            "xlu =  2.0 fxu =  38.0\n",
            "xl =  0.36682310463846735 fxl =  -1.9246914073864976\n",
            "error =  0.22550389931225756\n",
            "______________________________________________________________________________________________________\n",
            "i =  5\n",
            "xl =  0.44200910347510614 fxl =  -1.833815564753924\n",
            "xlu =  2.0 fxu =  38.0\n",
            "xl =  0.44200910347510614 fxl =  -1.833815564753924\n",
            "error =  0.1701005663582973\n",
            "______________________________________________________________________________________________________\n",
            "i =  6\n",
            "xl =  0.5088277883158681 fxl =  -1.702761092282751\n",
            "xlu =  2.0 fxu =  38.0\n",
            "xl =  0.5088277883158681 fxl =  -1.702761092282751\n",
            "error =  0.13131885949452604\n",
            "______________________________________________________________________________________________________\n",
            "i =  7\n",
            "xl =  0.5668243544707094 fxl =  -1.537752557238059\n",
            "xlu =  2.0 fxu =  38.0\n",
            "xl =  0.5668243544707094 fxl =  -1.537752557238059\n",
            "error =  0.10231840904048231\n",
            "______________________________________________________________________________________________________\n",
            "i =  8\n",
            "xl =  0.6160080802094423 fxl =  -1.3504280995763938\n",
            "xlu =  2.0 fxu =  38.0\n",
            "xl =  0.6160080802094423 fxl =  -1.3504280995763938\n",
            "error =  0.07984266330079702\n",
            "______________________________________________________________________________________________________\n",
            "i =  9\n",
            "xl =  0.65682447357466 fxl =  -1.1547433059669325\n",
            "xlu =  2.0 fxu =  38.0\n",
            "xl =  0.65682447357466 fxl =  -1.1547433059669325\n",
            "error =  0.06214201054823846\n",
            "______________________________________________________________________________________________________\n",
            "i =  10\n",
            "xl =  0.6900482860991499 fxl =  -0.9637797046511385\n",
            "xlu =  2.0 fxu =  38.0\n",
            "xl =  0.6900482860991499 fxl =  -0.9637797046511385\n",
            "error =  0.04814708360816961\n",
            "______________________________________________________________________________________________________\n",
            "i =  11\n",
            "xl =  0.7166451870399888 fxl =  -0.787531418081314\n",
            "xlu =  2.0 fxu =  38.0\n",
            "xl =  0.7166451870399888 fxl =  -0.787531418081314\n",
            "error =  0.037113067138138445\n",
            "______________________________________________________________________________________________________\n",
            "i =  12\n",
            "xl =  0.7376425318661695 fxl =  -0.6320706483991474\n",
            "xlu =  2.0 fxu =  38.0\n",
            "xl =  0.7376425318661695 fxl =  -0.6320706483991474\n",
            "error =  0.028465474696882313\n",
            "______________________________________________________________________________________________________\n",
            "i =  13\n",
            "xl =  0.7540318267312753 fxl =  -0.49984680045250407\n",
            "xlu =  2.0 fxu =  38.0\n",
            "xl =  0.7540318267312753 fxl =  -0.49984680045250407\n",
            "error =  0.02173554786958184\n",
            "______________________________________________________________________________________________________\n",
            "i =  14\n",
            "xl =  0.7667084070819028 fxl =  -0.39058893783916293\n",
            "xlu =  2.0 fxu =  38.0\n",
            "xl =  0.7667084070819028 fxl =  -0.39058893783916293\n",
            "error =  0.01653376985766285\n",
            "______________________________________________________________________________________________________\n",
            "i =  15\n",
            "xl =  0.7764431647559018 fxl =  -0.3023323322272664\n",
            "xlu =  2.0 fxu =  38.0\n",
            "xl =  0.7764431647559018 fxl =  -0.3023323322272664\n",
            "error =  0.01253763071899721\n",
            "______________________________________________________________________________________________________\n",
            "i =  16\n",
            "xl =  0.7838770727719131 fxl =  -0.23228614335255093\n",
            "xlu =  2.0 fxu =  38.0\n",
            "xl =  0.7838770727719131 fxl =  -0.23228614335255093\n",
            "error =  0.009483512497340712\n",
            "______________________________________________________________________________________________________\n",
            "i =  17\n",
            "xl =  0.7895294573077678 fxl =  -0.17744389870468336\n",
            "xlu =  2.0 fxu =  38.0\n",
            "xl =  0.7895294573077678 fxl =  -0.17744389870468336\n",
            "error =  0.007159181311776362\n",
            "______________________________________________________________________________________________________\n",
            "i =  18\n",
            "xl =  0.7938130323234951 fxl =  -0.13495076216185797\n",
            "xlu =  2.0 fxu =  38.0\n",
            "xl =  0.7938130323234951 fxl =  -0.13495076216185797\n",
            "error =  0.0053962014243949166\n",
            "______________________________________________________________________________________________________\n",
            "i =  19\n",
            "xl =  0.7970510768961432 fxl =  -0.10228671508607867\n",
            "xlu =  2.0 fxu =  38.0\n",
            "xl =  0.7970510768961432 fxl =  -0.10228671508607867\n",
            "error =  0.004062530829589498\n",
            "______________________________________________________________________________________________________\n",
            "i =  20\n",
            "xl =  0.799494085740174 fxl =  -0.07732934504567046\n",
            "xlu =  2.0 fxu =  38.0\n",
            "xl =  0.799494085740174 fxl =  -0.07732934504567046\n",
            "error =  0.0030556934536533427\n",
            "______________________________________________________________________________________________________\n",
            "i =  21\n",
            "xl =  0.8013345845538506 fxl =  -0.05834735366389299\n",
            "xlu =  2.0 fxu =  38.0\n",
            "xl =  0.8013345845538506 fxl =  -0.05834735366389299\n",
            "error =  0.002296791938290498\n",
            "______________________________________________________________________________________________________\n",
            "i =  22\n",
            "xl =  0.8027196452737553 fxl =  -0.04395988554277053\n",
            "xlu =  2.0 fxu =  38.0\n",
            "xl =  0.8027196452737553 fxl =  -0.04395988554277053\n",
            "error =  0.0017254601006211523\n",
            "______________________________________________________________________________________________________\n",
            "i =  23\n",
            "xl =  0.8037611043265018 fxl =  -0.03308322789661866\n",
            "xlu =  2.0 fxu =  38.0\n",
            "xl =  0.8037611043265018 fxl =  -0.03308322789661866\n",
            "error =  0.001295732086487595\n",
            "Raiz =  0.8045437128223942\n"
          ]
        }
      ]
    },
    {
      "cell_type": "code",
      "source": [
        "\n",
        "def graf_f():\n",
        "  X = errores\n",
        "  Y = np.linspace(0, 10, num=15,endpoint=False)\n",
        "  plt.title(\"Funcion de error \")\n",
        "  plt.xlabel(\"error \")\n",
        "  plt.ylabel(\"Y\")\n",
        "  plt.plot(X)\n",
        "  plt.grid()\n",
        "  plt.show()\n",
        "graf_f()"
      ],
      "metadata": {
        "id": "8Wu3gB0hIYUW",
        "outputId": "d4ee08c5-e694-439a-9f01-e3ba7b8d76b8",
        "colab": {
          "base_uri": "https://localhost:8080/",
          "height": 472
        }
      },
      "execution_count": 35,
      "outputs": [
        {
          "output_type": "display_data",
          "data": {
            "text/plain": [
              "<Figure size 640x480 with 1 Axes>"
            ],
            "image/png": "[encoded data removed]"
          },
          "metadata": {}
        }
      ]
    },
    {
      "cell_type": "code",
      "source": [
        "def graf_function():\n",
        "  X = list(np.arange(xl,xu, err))\n",
        "  Y=[((x**4)+ 3*(x**3) - 2) for x in X]\n",
        "\n",
        "  plt.title(\"Funcion\")\n",
        "  plt.xlabel(\"Y = x^4 + x^3 - 2\")\n",
        "  plt.ylabel(\"Y\")\n",
        "  plt.plot(X,Y, \"r--\")\n",
        "  plt.axvline(x=0.8045437128223942, ymin=0.0, ymax=30)\n",
        "  plt.grid()\n",
        "  plt.show()\n",
        "\n",
        "graf_function()"
      ],
      "metadata": {
        "id": "gOBrC0ZSG0qs",
        "outputId": "38e9eb25-87a2-43f1-f8db-fe1875144078",
        "colab": {
          "base_uri": "https://localhost:8080/",
          "height": 472
        }
      },
      "execution_count": 30,
      "outputs": [
        {
          "output_type": "display_data",
          "data": {
            "text/plain": [
              "<Figure size 640x480 with 1 Axes>"
            ],
            "image/png": "[encoded data removed]"
          },
          "metadata": {}
        }
      ]
    }
  ]
}